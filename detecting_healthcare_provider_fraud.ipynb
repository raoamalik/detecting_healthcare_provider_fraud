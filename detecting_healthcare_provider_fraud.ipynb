{
 "cells": [
  {
   "cell_type": "code",
   "execution_count": 3,
   "metadata": {},
   "outputs": [],
   "source": [
    "import numpy as np\n",
    "import pandas as pd\n",
    "import matplotlib.pyplot as plt\n",
    "from sklearn.linear_model import LogisticRegression, LogisticRegressionCV\n",
    "import warnings\n",
    "warnings.filterwarnings('ignore')"
   ]
  },
  {
   "cell_type": "code",
   "execution_count": 4,
   "metadata": {},
   "outputs": [
    {
     "data": {
      "text/html": [
       "<div>\n",
       "<style scoped>\n",
       "    .dataframe tbody tr th:only-of-type {\n",
       "        vertical-align: middle;\n",
       "    }\n",
       "\n",
       "    .dataframe tbody tr th {\n",
       "        vertical-align: top;\n",
       "    }\n",
       "\n",
       "    .dataframe thead th {\n",
       "        text-align: right;\n",
       "    }\n",
       "</style>\n",
       "<table border=\"1\" class=\"dataframe\">\n",
       "  <thead>\n",
       "    <tr style=\"text-align: right;\">\n",
       "      <th></th>\n",
       "      <th>npi</th>\n",
       "      <th>nppes_provider_last_org_name</th>\n",
       "      <th>nppes_provider_first_name</th>\n",
       "      <th>nppes_provider_mi</th>\n",
       "      <th>nppes_credentials</th>\n",
       "      <th>nppes_provider_gender</th>\n",
       "      <th>nppes_entity_code</th>\n",
       "      <th>nppes_provider_street1</th>\n",
       "      <th>nppes_provider_street2</th>\n",
       "      <th>nppes_provider_city</th>\n",
       "      <th>...</th>\n",
       "      <th>hcpcs_code</th>\n",
       "      <th>hcpcs_description</th>\n",
       "      <th>hcpcs_drug_indicator</th>\n",
       "      <th>line_srvc_cnt</th>\n",
       "      <th>bene_unique_cnt</th>\n",
       "      <th>bene_day_srvc_cnt</th>\n",
       "      <th>average_Medicare_allowed_amt</th>\n",
       "      <th>average_submitted_chrg_amt</th>\n",
       "      <th>average_Medicare_payment_amt</th>\n",
       "      <th>average_Medicare_standard_amt</th>\n",
       "    </tr>\n",
       "  </thead>\n",
       "  <tbody>\n",
       "    <tr>\n",
       "      <th>9847439</th>\n",
       "      <td>1992999825</td>\n",
       "      <td>DESCHENES</td>\n",
       "      <td>GEOFFREY</td>\n",
       "      <td>R</td>\n",
       "      <td>M.D.</td>\n",
       "      <td>M</td>\n",
       "      <td>I</td>\n",
       "      <td>1100 9TH AVE</td>\n",
       "      <td>MS:M4-PFS</td>\n",
       "      <td>SEATTLE</td>\n",
       "      <td>...</td>\n",
       "      <td>99214</td>\n",
       "      <td>Established patient office or other outpatient...</td>\n",
       "      <td>N</td>\n",
       "      <td>248.0</td>\n",
       "      <td>175.0</td>\n",
       "      <td>248.0</td>\n",
       "      <td>116.86</td>\n",
       "      <td>345.0</td>\n",
       "      <td>85.637177</td>\n",
       "      <td>80.263065</td>\n",
       "    </tr>\n",
       "    <tr>\n",
       "      <th>9847440</th>\n",
       "      <td>1992999874</td>\n",
       "      <td>JOFFE</td>\n",
       "      <td>GABRIELLA</td>\n",
       "      <td>NaN</td>\n",
       "      <td>NaN</td>\n",
       "      <td>F</td>\n",
       "      <td>I</td>\n",
       "      <td>8260 ATLEE RD</td>\n",
       "      <td>MOB 2, SUITE 319</td>\n",
       "      <td>MECHANICSVILLE</td>\n",
       "      <td>...</td>\n",
       "      <td>99223</td>\n",
       "      <td>Initial hospital inpatient care, typically 70 ...</td>\n",
       "      <td>N</td>\n",
       "      <td>41.0</td>\n",
       "      <td>41.0</td>\n",
       "      <td>41.0</td>\n",
       "      <td>203.40</td>\n",
       "      <td>496.0</td>\n",
       "      <td>225.564634</td>\n",
       "      <td>155.800732</td>\n",
       "    </tr>\n",
       "    <tr>\n",
       "      <th>9847441</th>\n",
       "      <td>1992999874</td>\n",
       "      <td>JOFFE</td>\n",
       "      <td>GABRIELLA</td>\n",
       "      <td>NaN</td>\n",
       "      <td>NaN</td>\n",
       "      <td>F</td>\n",
       "      <td>I</td>\n",
       "      <td>8260 ATLEE RD</td>\n",
       "      <td>MOB 2, SUITE 319</td>\n",
       "      <td>MECHANICSVILLE</td>\n",
       "      <td>...</td>\n",
       "      <td>99232</td>\n",
       "      <td>Subsequent hospital inpatient care, typically ...</td>\n",
       "      <td>N</td>\n",
       "      <td>101.0</td>\n",
       "      <td>57.0</td>\n",
       "      <td>101.0</td>\n",
       "      <td>72.48</td>\n",
       "      <td>176.0</td>\n",
       "      <td>83.200000</td>\n",
       "      <td>57.390000</td>\n",
       "    </tr>\n",
       "    <tr>\n",
       "      <th>9847442</th>\n",
       "      <td>1992999874</td>\n",
       "      <td>JOFFE</td>\n",
       "      <td>GABRIELLA</td>\n",
       "      <td>NaN</td>\n",
       "      <td>NaN</td>\n",
       "      <td>F</td>\n",
       "      <td>I</td>\n",
       "      <td>8260 ATLEE RD</td>\n",
       "      <td>MOB 2, SUITE 319</td>\n",
       "      <td>MECHANICSVILLE</td>\n",
       "      <td>...</td>\n",
       "      <td>99233</td>\n",
       "      <td>Subsequent hospital inpatient care, typically ...</td>\n",
       "      <td>N</td>\n",
       "      <td>102.0</td>\n",
       "      <td>55.0</td>\n",
       "      <td>102.0</td>\n",
       "      <td>104.76</td>\n",
       "      <td>254.0</td>\n",
       "      <td>119.450784</td>\n",
       "      <td>82.450490</td>\n",
       "    </tr>\n",
       "    <tr>\n",
       "      <th>9847443</th>\n",
       "      <td>1992999874</td>\n",
       "      <td>JOFFE</td>\n",
       "      <td>GABRIELLA</td>\n",
       "      <td>NaN</td>\n",
       "      <td>NaN</td>\n",
       "      <td>F</td>\n",
       "      <td>I</td>\n",
       "      <td>8260 ATLEE RD</td>\n",
       "      <td>MOB 2, SUITE 319</td>\n",
       "      <td>MECHANICSVILLE</td>\n",
       "      <td>...</td>\n",
       "      <td>99239</td>\n",
       "      <td>Hospital discharge day management, more than 3...</td>\n",
       "      <td>N</td>\n",
       "      <td>49.0</td>\n",
       "      <td>49.0</td>\n",
       "      <td>49.0</td>\n",
       "      <td>107.98</td>\n",
       "      <td>262.0</td>\n",
       "      <td>123.950000</td>\n",
       "      <td>85.540000</td>\n",
       "    </tr>\n",
       "  </tbody>\n",
       "</table>\n",
       "<p>5 rows × 26 columns</p>\n",
       "</div>"
      ],
      "text/plain": [
       "                npi nppes_provider_last_org_name nppes_provider_first_name  \\\n",
       "9847439  1992999825                    DESCHENES                  GEOFFREY   \n",
       "9847440  1992999874                        JOFFE                 GABRIELLA   \n",
       "9847441  1992999874                        JOFFE                 GABRIELLA   \n",
       "9847442  1992999874                        JOFFE                 GABRIELLA   \n",
       "9847443  1992999874                        JOFFE                 GABRIELLA   \n",
       "\n",
       "        nppes_provider_mi nppes_credentials nppes_provider_gender  \\\n",
       "9847439                 R              M.D.                     M   \n",
       "9847440               NaN               NaN                     F   \n",
       "9847441               NaN               NaN                     F   \n",
       "9847442               NaN               NaN                     F   \n",
       "9847443               NaN               NaN                     F   \n",
       "\n",
       "        nppes_entity_code nppes_provider_street1 nppes_provider_street2  \\\n",
       "9847439                 I           1100 9TH AVE              MS:M4-PFS   \n",
       "9847440                 I          8260 ATLEE RD       MOB 2, SUITE 319   \n",
       "9847441                 I          8260 ATLEE RD       MOB 2, SUITE 319   \n",
       "9847442                 I          8260 ATLEE RD       MOB 2, SUITE 319   \n",
       "9847443                 I          8260 ATLEE RD       MOB 2, SUITE 319   \n",
       "\n",
       "        nppes_provider_city  ... hcpcs_code  \\\n",
       "9847439             SEATTLE  ...      99214   \n",
       "9847440      MECHANICSVILLE  ...      99223   \n",
       "9847441      MECHANICSVILLE  ...      99232   \n",
       "9847442      MECHANICSVILLE  ...      99233   \n",
       "9847443      MECHANICSVILLE  ...      99239   \n",
       "\n",
       "                                         hcpcs_description  \\\n",
       "9847439  Established patient office or other outpatient...   \n",
       "9847440  Initial hospital inpatient care, typically 70 ...   \n",
       "9847441  Subsequent hospital inpatient care, typically ...   \n",
       "9847442  Subsequent hospital inpatient care, typically ...   \n",
       "9847443  Hospital discharge day management, more than 3...   \n",
       "\n",
       "        hcpcs_drug_indicator line_srvc_cnt bene_unique_cnt bene_day_srvc_cnt  \\\n",
       "9847439                    N         248.0           175.0             248.0   \n",
       "9847440                    N          41.0            41.0              41.0   \n",
       "9847441                    N         101.0            57.0             101.0   \n",
       "9847442                    N         102.0            55.0             102.0   \n",
       "9847443                    N          49.0            49.0              49.0   \n",
       "\n",
       "        average_Medicare_allowed_amt average_submitted_chrg_amt  \\\n",
       "9847439                       116.86                      345.0   \n",
       "9847440                       203.40                      496.0   \n",
       "9847441                        72.48                      176.0   \n",
       "9847442                       104.76                      254.0   \n",
       "9847443                       107.98                      262.0   \n",
       "\n",
       "        average_Medicare_payment_amt  average_Medicare_standard_amt  \n",
       "9847439                    85.637177                      80.263065  \n",
       "9847440                   225.564634                     155.800732  \n",
       "9847441                    83.200000                      57.390000  \n",
       "9847442                   119.450784                      82.450490  \n",
       "9847443                   123.950000                      85.540000  \n",
       "\n",
       "[5 rows x 26 columns]"
      ]
     },
     "execution_count": 4,
     "metadata": {},
     "output_type": "execute_result"
    }
   ],
   "source": [
    "### read the tab separated file containing healthcare provider data as a pandas DataFrame\n",
    "\n",
    "provider_df = pd.read_csv('Medicare_Provider_Util_Payment_PUF_CY2017/Medicare_Provider_Util_Payment_PUF_CY2017.txt', \"\\t\")\n",
    "\n",
    "provider_df.tail()"
   ]
  },
  {
   "cell_type": "code",
   "execution_count": 5,
   "metadata": {},
   "outputs": [
    {
     "data": {
      "text/html": [
       "<div>\n",
       "<style scoped>\n",
       "    .dataframe tbody tr th:only-of-type {\n",
       "        vertical-align: middle;\n",
       "    }\n",
       "\n",
       "    .dataframe tbody tr th {\n",
       "        vertical-align: top;\n",
       "    }\n",
       "\n",
       "    .dataframe thead th {\n",
       "        text-align: right;\n",
       "    }\n",
       "</style>\n",
       "<table border=\"1\" class=\"dataframe\">\n",
       "  <thead>\n",
       "    <tr style=\"text-align: right;\">\n",
       "      <th></th>\n",
       "      <th>LASTNAME</th>\n",
       "      <th>FIRSTNAME</th>\n",
       "      <th>MIDNAME</th>\n",
       "      <th>BUSNAME</th>\n",
       "      <th>GENERAL</th>\n",
       "      <th>SPECIALTY</th>\n",
       "      <th>UPIN</th>\n",
       "      <th>NPI</th>\n",
       "      <th>DOB</th>\n",
       "      <th>ADDRESS</th>\n",
       "      <th>CITY</th>\n",
       "      <th>STATE</th>\n",
       "      <th>ZIP</th>\n",
       "      <th>EXCLTYPE</th>\n",
       "      <th>EXCLDATE</th>\n",
       "      <th>REINDATE</th>\n",
       "      <th>WAIVERDATE</th>\n",
       "      <th>WVRSTATE</th>\n",
       "    </tr>\n",
       "  </thead>\n",
       "  <tbody>\n",
       "    <tr>\n",
       "      <th>0</th>\n",
       "      <td>NaN</td>\n",
       "      <td>NaN</td>\n",
       "      <td></td>\n",
       "      <td>14 LAWRENCE AVE PHARMACY</td>\n",
       "      <td>PHARMACY</td>\n",
       "      <td>NaN</td>\n",
       "      <td>NaN</td>\n",
       "      <td>0</td>\n",
       "      <td>NaN</td>\n",
       "      <td>14 LAWRENCE AVENUE</td>\n",
       "      <td>SMITHTOWN</td>\n",
       "      <td>NY</td>\n",
       "      <td>11787</td>\n",
       "      <td>1128a1</td>\n",
       "      <td>19880830</td>\n",
       "      <td>0</td>\n",
       "      <td>0</td>\n",
       "      <td>NaN</td>\n",
       "    </tr>\n",
       "    <tr>\n",
       "      <th>1</th>\n",
       "      <td>NaN</td>\n",
       "      <td>NaN</td>\n",
       "      <td></td>\n",
       "      <td>143 MEDICAL EQUIPMENT CO</td>\n",
       "      <td>DME COMPANY</td>\n",
       "      <td>DME - OXYGEN</td>\n",
       "      <td>NaN</td>\n",
       "      <td>0</td>\n",
       "      <td>NaN</td>\n",
       "      <td>701 NW 36 AVENUE</td>\n",
       "      <td>MIAMI</td>\n",
       "      <td>FL</td>\n",
       "      <td>33125</td>\n",
       "      <td>1128b7</td>\n",
       "      <td>19970620</td>\n",
       "      <td>0</td>\n",
       "      <td>0</td>\n",
       "      <td>NaN</td>\n",
       "    </tr>\n",
       "    <tr>\n",
       "      <th>2</th>\n",
       "      <td>NaN</td>\n",
       "      <td>NaN</td>\n",
       "      <td></td>\n",
       "      <td>184TH STREET PHARMACY CORP</td>\n",
       "      <td>OTHER BUSINESS</td>\n",
       "      <td>PHARMACY</td>\n",
       "      <td>NaN</td>\n",
       "      <td>1922348218</td>\n",
       "      <td>NaN</td>\n",
       "      <td>69 E 184TH ST</td>\n",
       "      <td>BRONX</td>\n",
       "      <td>NY</td>\n",
       "      <td>10468</td>\n",
       "      <td>1128a1</td>\n",
       "      <td>20180419</td>\n",
       "      <td>0</td>\n",
       "      <td>0</td>\n",
       "      <td>NaN</td>\n",
       "    </tr>\n",
       "    <tr>\n",
       "      <th>3</th>\n",
       "      <td>NaN</td>\n",
       "      <td>NaN</td>\n",
       "      <td></td>\n",
       "      <td>1951 FLATBUSH AVENUE PHARMACY</td>\n",
       "      <td>PHARMACY</td>\n",
       "      <td>NaN</td>\n",
       "      <td>NaN</td>\n",
       "      <td>0</td>\n",
       "      <td>NaN</td>\n",
       "      <td>1951 FLATBUSH AVE</td>\n",
       "      <td>BROOKLYN</td>\n",
       "      <td>NY</td>\n",
       "      <td>11234</td>\n",
       "      <td>1128b5</td>\n",
       "      <td>20090319</td>\n",
       "      <td>0</td>\n",
       "      <td>0</td>\n",
       "      <td>NaN</td>\n",
       "    </tr>\n",
       "    <tr>\n",
       "      <th>4</th>\n",
       "      <td>NaN</td>\n",
       "      <td>NaN</td>\n",
       "      <td></td>\n",
       "      <td>1ST COMMUNITY HEALTH CTR, LTD</td>\n",
       "      <td>CLINIC</td>\n",
       "      <td>NaN</td>\n",
       "      <td>NaN</td>\n",
       "      <td>0</td>\n",
       "      <td>NaN</td>\n",
       "      <td>3138 W CERMAK ROAD</td>\n",
       "      <td>CHICAGO</td>\n",
       "      <td>IL</td>\n",
       "      <td>60623</td>\n",
       "      <td>1128a1</td>\n",
       "      <td>19940524</td>\n",
       "      <td>0</td>\n",
       "      <td>0</td>\n",
       "      <td>NaN</td>\n",
       "    </tr>\n",
       "  </tbody>\n",
       "</table>\n",
       "</div>"
      ],
      "text/plain": [
       "  LASTNAME FIRSTNAME MIDNAME                        BUSNAME         GENERAL  \\\n",
       "0      NaN       NaN               14 LAWRENCE AVE PHARMACY        PHARMACY   \n",
       "1      NaN       NaN               143 MEDICAL EQUIPMENT CO     DME COMPANY   \n",
       "2      NaN       NaN             184TH STREET PHARMACY CORP  OTHER BUSINESS   \n",
       "3      NaN       NaN          1951 FLATBUSH AVENUE PHARMACY        PHARMACY   \n",
       "4      NaN       NaN          1ST COMMUNITY HEALTH CTR, LTD          CLINIC   \n",
       "\n",
       "      SPECIALTY UPIN         NPI  DOB             ADDRESS       CITY STATE  \\\n",
       "0           NaN  NaN           0  NaN  14 LAWRENCE AVENUE  SMITHTOWN    NY   \n",
       "1  DME - OXYGEN  NaN           0  NaN    701 NW 36 AVENUE      MIAMI    FL   \n",
       "2      PHARMACY  NaN  1922348218  NaN       69 E 184TH ST      BRONX    NY   \n",
       "3           NaN  NaN           0  NaN   1951 FLATBUSH AVE   BROOKLYN    NY   \n",
       "4           NaN  NaN           0  NaN  3138 W CERMAK ROAD    CHICAGO    IL   \n",
       "\n",
       "     ZIP EXCLTYPE  EXCLDATE  REINDATE  WAIVERDATE WVRSTATE  \n",
       "0  11787   1128a1  19880830         0           0      NaN  \n",
       "1  33125   1128b7  19970620         0           0      NaN  \n",
       "2  10468   1128a1  20180419         0           0      NaN  \n",
       "3  11234   1128b5  20090319         0           0      NaN  \n",
       "4  60623   1128a1  19940524         0           0      NaN  "
      ]
     },
     "execution_count": 5,
     "metadata": {},
     "output_type": "execute_result"
    }
   ],
   "source": [
    "convicted_df = pd.read_csv('LEIE.csv')\n",
    "convicted_df.head()"
   ]
  },
  {
   "cell_type": "code",
   "execution_count": 6,
   "metadata": {},
   "outputs": [
    {
     "name": "stdout",
     "output_type": "stream",
     "text": [
      "<class 'pandas.core.frame.DataFrame'>\n",
      "RangeIndex: 9847444 entries, 0 to 9847443\n",
      "Data columns (total 26 columns):\n",
      "npi                                 int64\n",
      "nppes_provider_last_org_name        object\n",
      "nppes_provider_first_name           object\n",
      "nppes_provider_mi                   object\n",
      "nppes_credentials                   object\n",
      "nppes_provider_gender               object\n",
      "nppes_entity_code                   object\n",
      "nppes_provider_street1              object\n",
      "nppes_provider_street2              object\n",
      "nppes_provider_city                 object\n",
      "nppes_provider_zip                  object\n",
      "nppes_provider_state                object\n",
      "nppes_provider_country              object\n",
      "provider_type                       object\n",
      "medicare_participation_indicator    object\n",
      "place_of_service                    object\n",
      "hcpcs_code                          object\n",
      "hcpcs_description                   object\n",
      "hcpcs_drug_indicator                object\n",
      "line_srvc_cnt                       float64\n",
      "bene_unique_cnt                     float64\n",
      "bene_day_srvc_cnt                   float64\n",
      "average_Medicare_allowed_amt        float64\n",
      "average_submitted_chrg_amt          float64\n",
      "average_Medicare_payment_amt        float64\n",
      "average_Medicare_standard_amt       float64\n",
      "dtypes: float64(7), int64(1), object(18)\n",
      "memory usage: 1.9+ GB\n"
     ]
    }
   ],
   "source": [
    "provider_df.info()"
   ]
  },
  {
   "cell_type": "code",
   "execution_count": 7,
   "metadata": {},
   "outputs": [
    {
     "data": {
      "text/html": [
       "<div>\n",
       "<style scoped>\n",
       "    .dataframe tbody tr th:only-of-type {\n",
       "        vertical-align: middle;\n",
       "    }\n",
       "\n",
       "    .dataframe tbody tr th {\n",
       "        vertical-align: top;\n",
       "    }\n",
       "\n",
       "    .dataframe thead th {\n",
       "        text-align: right;\n",
       "    }\n",
       "</style>\n",
       "<table border=\"1\" class=\"dataframe\">\n",
       "  <thead>\n",
       "    <tr style=\"text-align: right;\">\n",
       "      <th></th>\n",
       "      <th>npi</th>\n",
       "      <th>line_srvc_cnt</th>\n",
       "      <th>bene_unique_cnt</th>\n",
       "      <th>bene_day_srvc_cnt</th>\n",
       "      <th>average_Medicare_allowed_amt</th>\n",
       "      <th>average_submitted_chrg_amt</th>\n",
       "      <th>average_Medicare_payment_amt</th>\n",
       "      <th>average_Medicare_standard_amt</th>\n",
       "    </tr>\n",
       "  </thead>\n",
       "  <tbody>\n",
       "    <tr>\n",
       "      <th>count</th>\n",
       "      <td>9.847444e+06</td>\n",
       "      <td>9.847443e+06</td>\n",
       "      <td>9.847443e+06</td>\n",
       "      <td>9.847443e+06</td>\n",
       "      <td>9.847443e+06</td>\n",
       "      <td>9.847443e+06</td>\n",
       "      <td>9.847443e+06</td>\n",
       "      <td>9.847443e+06</td>\n",
       "    </tr>\n",
       "    <tr>\n",
       "      <th>mean</th>\n",
       "      <td>1.499839e+09</td>\n",
       "      <td>2.448553e+02</td>\n",
       "      <td>8.777250e+01</td>\n",
       "      <td>1.403349e+02</td>\n",
       "      <td>1.015993e+02</td>\n",
       "      <td>3.515861e+02</td>\n",
       "      <td>7.753480e+01</td>\n",
       "      <td>7.822188e+01</td>\n",
       "    </tr>\n",
       "    <tr>\n",
       "      <th>std</th>\n",
       "      <td>2.877164e+08</td>\n",
       "      <td>5.122602e+03</td>\n",
       "      <td>1.167731e+03</td>\n",
       "      <td>1.985972e+03</td>\n",
       "      <td>2.764955e+02</td>\n",
       "      <td>1.064216e+03</td>\n",
       "      <td>2.152963e+02</td>\n",
       "      <td>2.158862e+02</td>\n",
       "    </tr>\n",
       "    <tr>\n",
       "      <th>min</th>\n",
       "      <td>1.000000e+00</td>\n",
       "      <td>2.400000e+00</td>\n",
       "      <td>1.100000e+01</td>\n",
       "      <td>1.100000e+01</td>\n",
       "      <td>6.035380e-05</td>\n",
       "      <td>6.035380e-05</td>\n",
       "      <td>0.000000e+00</td>\n",
       "      <td>0.000000e+00</td>\n",
       "    </tr>\n",
       "    <tr>\n",
       "      <th>25%</th>\n",
       "      <td>1.255301e+09</td>\n",
       "      <td>2.100000e+01</td>\n",
       "      <td>1.700000e+01</td>\n",
       "      <td>2.000000e+01</td>\n",
       "      <td>2.426084e+01</td>\n",
       "      <td>5.800000e+01</td>\n",
       "      <td>1.928420e+01</td>\n",
       "      <td>2.009083e+01</td>\n",
       "    </tr>\n",
       "    <tr>\n",
       "      <th>50%</th>\n",
       "      <td>1.497985e+09</td>\n",
       "      <td>4.300000e+01</td>\n",
       "      <td>3.200000e+01</td>\n",
       "      <td>4.000000e+01</td>\n",
       "      <td>6.499769e+01</td>\n",
       "      <td>1.460000e+02</td>\n",
       "      <td>4.695941e+01</td>\n",
       "      <td>4.775953e+01</td>\n",
       "    </tr>\n",
       "    <tr>\n",
       "      <th>75%</th>\n",
       "      <td>1.740675e+09</td>\n",
       "      <td>1.170000e+02</td>\n",
       "      <td>7.500000e+01</td>\n",
       "      <td>1.060000e+02</td>\n",
       "      <td>1.135045e+02</td>\n",
       "      <td>3.000000e+02</td>\n",
       "      <td>8.519500e+01</td>\n",
       "      <td>8.525000e+01</td>\n",
       "    </tr>\n",
       "    <tr>\n",
       "      <th>max</th>\n",
       "      <td>1.993000e+09</td>\n",
       "      <td>7.195536e+06</td>\n",
       "      <td>7.928730e+05</td>\n",
       "      <td>1.504215e+06</td>\n",
       "      <td>5.668435e+04</td>\n",
       "      <td>9.999999e+04</td>\n",
       "      <td>4.443910e+04</td>\n",
       "      <td>4.443910e+04</td>\n",
       "    </tr>\n",
       "  </tbody>\n",
       "</table>\n",
       "</div>"
      ],
      "text/plain": [
       "                npi  line_srvc_cnt  bene_unique_cnt  bene_day_srvc_cnt  \\\n",
       "count  9.847444e+06   9.847443e+06     9.847443e+06       9.847443e+06   \n",
       "mean   1.499839e+09   2.448553e+02     8.777250e+01       1.403349e+02   \n",
       "std    2.877164e+08   5.122602e+03     1.167731e+03       1.985972e+03   \n",
       "min    1.000000e+00   2.400000e+00     1.100000e+01       1.100000e+01   \n",
       "25%    1.255301e+09   2.100000e+01     1.700000e+01       2.000000e+01   \n",
       "50%    1.497985e+09   4.300000e+01     3.200000e+01       4.000000e+01   \n",
       "75%    1.740675e+09   1.170000e+02     7.500000e+01       1.060000e+02   \n",
       "max    1.993000e+09   7.195536e+06     7.928730e+05       1.504215e+06   \n",
       "\n",
       "       average_Medicare_allowed_amt  average_submitted_chrg_amt  \\\n",
       "count                  9.847443e+06                9.847443e+06   \n",
       "mean                   1.015993e+02                3.515861e+02   \n",
       "std                    2.764955e+02                1.064216e+03   \n",
       "min                    6.035380e-05                6.035380e-05   \n",
       "25%                    2.426084e+01                5.800000e+01   \n",
       "50%                    6.499769e+01                1.460000e+02   \n",
       "75%                    1.135045e+02                3.000000e+02   \n",
       "max                    5.668435e+04                9.999999e+04   \n",
       "\n",
       "       average_Medicare_payment_amt  average_Medicare_standard_amt  \n",
       "count                  9.847443e+06                   9.847443e+06  \n",
       "mean                   7.753480e+01                   7.822188e+01  \n",
       "std                    2.152963e+02                   2.158862e+02  \n",
       "min                    0.000000e+00                   0.000000e+00  \n",
       "25%                    1.928420e+01                   2.009083e+01  \n",
       "50%                    4.695941e+01                   4.775953e+01  \n",
       "75%                    8.519500e+01                   8.525000e+01  \n",
       "max                    4.443910e+04                   4.443910e+04  "
      ]
     },
     "execution_count": 7,
     "metadata": {},
     "output_type": "execute_result"
    }
   ],
   "source": [
    "provider_df.describe()"
   ]
  },
  {
   "cell_type": "code",
   "execution_count": 8,
   "metadata": {},
   "outputs": [
    {
     "data": {
      "text/html": [
       "<div>\n",
       "<style scoped>\n",
       "    .dataframe tbody tr th:only-of-type {\n",
       "        vertical-align: middle;\n",
       "    }\n",
       "\n",
       "    .dataframe tbody tr th {\n",
       "        vertical-align: top;\n",
       "    }\n",
       "\n",
       "    .dataframe thead th {\n",
       "        text-align: right;\n",
       "    }\n",
       "</style>\n",
       "<table border=\"1\" class=\"dataframe\">\n",
       "  <thead>\n",
       "    <tr style=\"text-align: right;\">\n",
       "      <th></th>\n",
       "      <th>NPI</th>\n",
       "      <th>DOB</th>\n",
       "      <th>ZIP</th>\n",
       "      <th>EXCLDATE</th>\n",
       "      <th>REINDATE</th>\n",
       "      <th>WAIVERDATE</th>\n",
       "    </tr>\n",
       "  </thead>\n",
       "  <tbody>\n",
       "    <tr>\n",
       "      <th>count</th>\n",
       "      <td>7.267600e+04</td>\n",
       "      <td>6.869100e+04</td>\n",
       "      <td>72676.000000</td>\n",
       "      <td>7.267600e+04</td>\n",
       "      <td>72676.0</td>\n",
       "      <td>7.267600e+04</td>\n",
       "    </tr>\n",
       "    <tr>\n",
       "      <th>mean</th>\n",
       "      <td>1.096020e+08</td>\n",
       "      <td>1.961971e+07</td>\n",
       "      <td>51420.786642</td>\n",
       "      <td>2.006805e+07</td>\n",
       "      <td>0.0</td>\n",
       "      <td>4.148421e+03</td>\n",
       "    </tr>\n",
       "    <tr>\n",
       "      <th>std</th>\n",
       "      <td>3.979338e+08</td>\n",
       "      <td>1.404949e+05</td>\n",
       "      <td>29593.928817</td>\n",
       "      <td>8.143594e+04</td>\n",
       "      <td>0.0</td>\n",
       "      <td>2.887307e+05</td>\n",
       "    </tr>\n",
       "    <tr>\n",
       "      <th>min</th>\n",
       "      <td>0.000000e+00</td>\n",
       "      <td>1.901010e+07</td>\n",
       "      <td>0.000000</td>\n",
       "      <td>1.977070e+07</td>\n",
       "      <td>0.0</td>\n",
       "      <td>0.000000e+00</td>\n",
       "    </tr>\n",
       "    <tr>\n",
       "      <th>25%</th>\n",
       "      <td>0.000000e+00</td>\n",
       "      <td>1.953032e+07</td>\n",
       "      <td>29918.000000</td>\n",
       "      <td>2.001052e+07</td>\n",
       "      <td>0.0</td>\n",
       "      <td>0.000000e+00</td>\n",
       "    </tr>\n",
       "    <tr>\n",
       "      <th>50%</th>\n",
       "      <td>0.000000e+00</td>\n",
       "      <td>1.962041e+07</td>\n",
       "      <td>45694.000000</td>\n",
       "      <td>2.007102e+07</td>\n",
       "      <td>0.0</td>\n",
       "      <td>0.000000e+00</td>\n",
       "    </tr>\n",
       "    <tr>\n",
       "      <th>75%</th>\n",
       "      <td>0.000000e+00</td>\n",
       "      <td>1.972050e+07</td>\n",
       "      <td>78416.000000</td>\n",
       "      <td>2.014052e+07</td>\n",
       "      <td>0.0</td>\n",
       "      <td>0.000000e+00</td>\n",
       "    </tr>\n",
       "    <tr>\n",
       "      <th>max</th>\n",
       "      <td>1.992979e+09</td>\n",
       "      <td>1.999043e+07</td>\n",
       "      <td>99927.000000</td>\n",
       "      <td>2.019122e+07</td>\n",
       "      <td>0.0</td>\n",
       "      <td>2.017062e+07</td>\n",
       "    </tr>\n",
       "  </tbody>\n",
       "</table>\n",
       "</div>"
      ],
      "text/plain": [
       "                NPI           DOB           ZIP      EXCLDATE  REINDATE  \\\n",
       "count  7.267600e+04  6.869100e+04  72676.000000  7.267600e+04   72676.0   \n",
       "mean   1.096020e+08  1.961971e+07  51420.786642  2.006805e+07       0.0   \n",
       "std    3.979338e+08  1.404949e+05  29593.928817  8.143594e+04       0.0   \n",
       "min    0.000000e+00  1.901010e+07      0.000000  1.977070e+07       0.0   \n",
       "25%    0.000000e+00  1.953032e+07  29918.000000  2.001052e+07       0.0   \n",
       "50%    0.000000e+00  1.962041e+07  45694.000000  2.007102e+07       0.0   \n",
       "75%    0.000000e+00  1.972050e+07  78416.000000  2.014052e+07       0.0   \n",
       "max    1.992979e+09  1.999043e+07  99927.000000  2.019122e+07       0.0   \n",
       "\n",
       "         WAIVERDATE  \n",
       "count  7.267600e+04  \n",
       "mean   4.148421e+03  \n",
       "std    2.887307e+05  \n",
       "min    0.000000e+00  \n",
       "25%    0.000000e+00  \n",
       "50%    0.000000e+00  \n",
       "75%    0.000000e+00  \n",
       "max    2.017062e+07  "
      ]
     },
     "execution_count": 8,
     "metadata": {},
     "output_type": "execute_result"
    }
   ],
   "source": [
    "convicted_df.describe()"
   ]
  },
  {
   "cell_type": "markdown",
   "metadata": {},
   "source": [
    "### Looking for null values. "
   ]
  },
  {
   "cell_type": "code",
   "execution_count": 9,
   "metadata": {},
   "outputs": [
    {
     "data": {
      "text/plain": [
       "npi                                 False\n",
       "nppes_provider_last_org_name         True\n",
       "nppes_provider_first_name            True\n",
       "nppes_provider_mi                    True\n",
       "nppes_credentials                    True\n",
       "nppes_provider_gender                True\n",
       "nppes_entity_code                    True\n",
       "nppes_provider_street1               True\n",
       "nppes_provider_street2               True\n",
       "nppes_provider_city                  True\n",
       "nppes_provider_zip                   True\n",
       "nppes_provider_state                 True\n",
       "nppes_provider_country               True\n",
       "provider_type                        True\n",
       "medicare_participation_indicator     True\n",
       "place_of_service                     True\n",
       "hcpcs_code                           True\n",
       "hcpcs_description                    True\n",
       "hcpcs_drug_indicator                 True\n",
       "line_srvc_cnt                        True\n",
       "bene_unique_cnt                      True\n",
       "bene_day_srvc_cnt                    True\n",
       "average_Medicare_allowed_amt         True\n",
       "average_submitted_chrg_amt           True\n",
       "average_Medicare_payment_amt         True\n",
       "average_Medicare_standard_amt        True\n",
       "dtype: bool"
      ]
     },
     "execution_count": 9,
     "metadata": {},
     "output_type": "execute_result"
    }
   ],
   "source": [
    "pd.isnull(provider_df).any()"
   ]
  },
  {
   "cell_type": "code",
   "execution_count": 10,
   "metadata": {},
   "outputs": [
    {
     "data": {
      "text/plain": [
       "Index(['npi', 'nppes_provider_last_org_name', 'nppes_provider_first_name',\n",
       "       'nppes_provider_mi', 'nppes_credentials', 'nppes_provider_gender',\n",
       "       'nppes_entity_code', 'nppes_provider_street1', 'nppes_provider_street2',\n",
       "       'nppes_provider_city', 'nppes_provider_zip', 'nppes_provider_state',\n",
       "       'nppes_provider_country', 'provider_type',\n",
       "       'medicare_participation_indicator', 'place_of_service', 'hcpcs_code',\n",
       "       'hcpcs_description', 'hcpcs_drug_indicator', 'line_srvc_cnt',\n",
       "       'bene_unique_cnt', 'bene_day_srvc_cnt', 'average_Medicare_allowed_amt',\n",
       "       'average_submitted_chrg_amt', 'average_Medicare_payment_amt',\n",
       "       'average_Medicare_standard_amt'],\n",
       "      dtype='object')"
      ]
     },
     "execution_count": 10,
     "metadata": {},
     "output_type": "execute_result"
    }
   ],
   "source": [
    "clms = provider_df.columns ### gives the columns of the DF. .index will give the row index and \n",
    "### .values will give the values\n",
    "\n",
    "clms"
   ]
  },
  {
   "cell_type": "code",
   "execution_count": 11,
   "metadata": {},
   "outputs": [],
   "source": [
    "provider_df = provider_df[1:]  ### dropping the first instance which is not an NPI"
   ]
  },
  {
   "cell_type": "markdown",
   "metadata": {},
   "source": [
    "### Performing Dimensionality Reduction"
   ]
  },
  {
   "cell_type": "code",
   "execution_count": 12,
   "metadata": {},
   "outputs": [],
   "source": [
    "### selecting the important attributes/features\n",
    "\n",
    "selected_provider_data = provider_df[['npi', 'nppes_provider_gender', 'provider_type', \n",
    "                             'line_srvc_cnt', 'bene_unique_cnt', 'bene_day_srvc_cnt',\n",
    "                             'average_submitted_chrg_amt', 'average_Medicare_allowed_amt', \n",
    "                             'average_Medicare_payment_amt']].dropna(axis=0)\n"
   ]
  },
  {
   "cell_type": "code",
   "execution_count": 13,
   "metadata": {},
   "outputs": [
    {
     "name": "stdout",
     "output_type": "stream",
     "text": [
      "count    9.416125e+06\n",
      "mean     1.499785e+09\n",
      "std      2.877289e+08\n",
      "min      1.003000e+09\n",
      "25%      1.255302e+09\n",
      "50%      1.497969e+09\n",
      "75%      1.740681e+09\n",
      "max      1.993000e+09\n",
      "Name: npi, dtype: float64\n",
      "count    9.416125e+06\n",
      "mean     1.499785e+09\n",
      "std      2.877289e+08\n",
      "min      1.003000e+09\n",
      "25%      1.255302e+09\n",
      "50%      1.497969e+09\n",
      "75%      1.740681e+09\n",
      "max      1.993000e+09\n",
      "Name: npi, dtype: float64\n"
     ]
    }
   ],
   "source": [
    "### Looking for missing values in NPI\n",
    "print(selected_provider_data['npi'].describe())\n",
    "\n",
    "nadropped = selected_provider_data.dropna(axis=0)\n",
    "\n",
    "print(nadropped['npi'].describe())\n",
    "\n"
   ]
  },
  {
   "cell_type": "code",
   "execution_count": 14,
   "metadata": {},
   "outputs": [
    {
     "data": {
      "text/plain": [
       "npi                             False\n",
       "nppes_provider_gender           False\n",
       "provider_type                   False\n",
       "line_srvc_cnt                   False\n",
       "bene_unique_cnt                 False\n",
       "bene_day_srvc_cnt               False\n",
       "average_submitted_chrg_amt      False\n",
       "average_Medicare_allowed_amt    False\n",
       "average_Medicare_payment_amt    False\n",
       "dtype: bool"
      ]
     },
     "execution_count": 14,
     "metadata": {},
     "output_type": "execute_result"
    }
   ],
   "source": [
    "pd.isnull(nadropped).any() ### confirming if there are any missing values"
   ]
  },
  {
   "cell_type": "code",
   "execution_count": 15,
   "metadata": {},
   "outputs": [
    {
     "data": {
      "text/plain": [
       "Index(['LASTNAME', 'FIRSTNAME', 'MIDNAME', 'BUSNAME', 'GENERAL', 'SPECIALTY',\n",
       "       'UPIN', 'NPI', 'DOB', 'ADDRESS', 'CITY', 'STATE', 'ZIP', 'EXCLTYPE',\n",
       "       'EXCLDATE', 'REINDATE', 'WAIVERDATE', 'WVRSTATE'],\n",
       "      dtype='object')"
      ]
     },
     "execution_count": 15,
     "metadata": {},
     "output_type": "execute_result"
    }
   ],
   "source": [
    "convicted_df.columns"
   ]
  },
  {
   "cell_type": "code",
   "execution_count": 16,
   "metadata": {},
   "outputs": [
    {
     "data": {
      "text/html": [
       "<div>\n",
       "<style scoped>\n",
       "    .dataframe tbody tr th:only-of-type {\n",
       "        vertical-align: middle;\n",
       "    }\n",
       "\n",
       "    .dataframe tbody tr th {\n",
       "        vertical-align: top;\n",
       "    }\n",
       "\n",
       "    .dataframe thead th {\n",
       "        text-align: right;\n",
       "    }\n",
       "</style>\n",
       "<table border=\"1\" class=\"dataframe\">\n",
       "  <thead>\n",
       "    <tr style=\"text-align: right;\">\n",
       "      <th></th>\n",
       "      <th>NPI</th>\n",
       "    </tr>\n",
       "  </thead>\n",
       "  <tbody>\n",
       "    <tr>\n",
       "      <th>count</th>\n",
       "      <td>7.267600e+04</td>\n",
       "    </tr>\n",
       "    <tr>\n",
       "      <th>mean</th>\n",
       "      <td>1.096020e+08</td>\n",
       "    </tr>\n",
       "    <tr>\n",
       "      <th>std</th>\n",
       "      <td>3.979338e+08</td>\n",
       "    </tr>\n",
       "    <tr>\n",
       "      <th>min</th>\n",
       "      <td>0.000000e+00</td>\n",
       "    </tr>\n",
       "    <tr>\n",
       "      <th>25%</th>\n",
       "      <td>0.000000e+00</td>\n",
       "    </tr>\n",
       "    <tr>\n",
       "      <th>50%</th>\n",
       "      <td>0.000000e+00</td>\n",
       "    </tr>\n",
       "    <tr>\n",
       "      <th>75%</th>\n",
       "      <td>0.000000e+00</td>\n",
       "    </tr>\n",
       "    <tr>\n",
       "      <th>max</th>\n",
       "      <td>1.992979e+09</td>\n",
       "    </tr>\n",
       "  </tbody>\n",
       "</table>\n",
       "</div>"
      ],
      "text/plain": [
       "                NPI\n",
       "count  7.267600e+04\n",
       "mean   1.096020e+08\n",
       "std    3.979338e+08\n",
       "min    0.000000e+00\n",
       "25%    0.000000e+00\n",
       "50%    0.000000e+00\n",
       "75%    0.000000e+00\n",
       "max    1.992979e+09"
      ]
     },
     "execution_count": 16,
     "metadata": {},
     "output_type": "execute_result"
    }
   ],
   "source": [
    "selected_convicted_data = convicted_df[['NPI']].dropna(axis=0)\n",
    "\n",
    "selected_convicted_data.describe()"
   ]
  },
  {
   "cell_type": "markdown",
   "metadata": {},
   "source": [
    "### Joining the provider dataset with LEIE labeled dataset."
   ]
  },
  {
   "cell_type": "code",
   "execution_count": 17,
   "metadata": {},
   "outputs": [
    {
     "data": {
      "text/html": [
       "<div>\n",
       "<style scoped>\n",
       "    .dataframe tbody tr th:only-of-type {\n",
       "        vertical-align: middle;\n",
       "    }\n",
       "\n",
       "    .dataframe tbody tr th {\n",
       "        vertical-align: top;\n",
       "    }\n",
       "\n",
       "    .dataframe thead th {\n",
       "        text-align: right;\n",
       "    }\n",
       "</style>\n",
       "<table border=\"1\" class=\"dataframe\">\n",
       "  <thead>\n",
       "    <tr style=\"text-align: right;\">\n",
       "      <th></th>\n",
       "      <th>npi</th>\n",
       "      <th>nppes_provider_gender</th>\n",
       "      <th>provider_type</th>\n",
       "      <th>line_srvc_cnt</th>\n",
       "      <th>bene_unique_cnt</th>\n",
       "      <th>bene_day_srvc_cnt</th>\n",
       "      <th>average_submitted_chrg_amt</th>\n",
       "      <th>average_Medicare_allowed_amt</th>\n",
       "      <th>average_Medicare_payment_amt</th>\n",
       "      <th>NPI</th>\n",
       "    </tr>\n",
       "  </thead>\n",
       "  <tbody>\n",
       "    <tr>\n",
       "      <th>0</th>\n",
       "      <td>1.003128e+09</td>\n",
       "      <td>M</td>\n",
       "      <td>Internal Medicine</td>\n",
       "      <td>617.0</td>\n",
       "      <td>499.0</td>\n",
       "      <td>617.0</td>\n",
       "      <td>332.463533</td>\n",
       "      <td>219.944716</td>\n",
       "      <td>170.918590</td>\n",
       "      <td>1003127655</td>\n",
       "    </tr>\n",
       "    <tr>\n",
       "      <th>1</th>\n",
       "      <td>1.003128e+09</td>\n",
       "      <td>M</td>\n",
       "      <td>Internal Medicine</td>\n",
       "      <td>249.0</td>\n",
       "      <td>17.0</td>\n",
       "      <td>249.0</td>\n",
       "      <td>69.899598</td>\n",
       "      <td>42.570080</td>\n",
       "      <td>33.024418</td>\n",
       "      <td>1003127655</td>\n",
       "    </tr>\n",
       "    <tr>\n",
       "      <th>2</th>\n",
       "      <td>1.003128e+09</td>\n",
       "      <td>M</td>\n",
       "      <td>Internal Medicine</td>\n",
       "      <td>1220.0</td>\n",
       "      <td>235.0</td>\n",
       "      <td>1220.0</td>\n",
       "      <td>120.000000</td>\n",
       "      <td>78.414213</td>\n",
       "      <td>61.340197</td>\n",
       "      <td>1003127655</td>\n",
       "    </tr>\n",
       "    <tr>\n",
       "      <th>3</th>\n",
       "      <td>1.003128e+09</td>\n",
       "      <td>M</td>\n",
       "      <td>Internal Medicine</td>\n",
       "      <td>754.0</td>\n",
       "      <td>434.0</td>\n",
       "      <td>754.0</td>\n",
       "      <td>172.590186</td>\n",
       "      <td>113.284987</td>\n",
       "      <td>88.611313</td>\n",
       "      <td>1003127655</td>\n",
       "    </tr>\n",
       "    <tr>\n",
       "      <th>4</th>\n",
       "      <td>1.003128e+09</td>\n",
       "      <td>M</td>\n",
       "      <td>Internal Medicine</td>\n",
       "      <td>543.0</td>\n",
       "      <td>448.0</td>\n",
       "      <td>543.0</td>\n",
       "      <td>188.176796</td>\n",
       "      <td>117.852320</td>\n",
       "      <td>91.907495</td>\n",
       "      <td>1003127655</td>\n",
       "    </tr>\n",
       "    <tr>\n",
       "      <th>...</th>\n",
       "      <td>...</td>\n",
       "      <td>...</td>\n",
       "      <td>...</td>\n",
       "      <td>...</td>\n",
       "      <td>...</td>\n",
       "      <td>...</td>\n",
       "      <td>...</td>\n",
       "      <td>...</td>\n",
       "      <td>...</td>\n",
       "      <td>...</td>\n",
       "    </tr>\n",
       "    <tr>\n",
       "      <th>1810</th>\n",
       "      <td>1.982676e+09</td>\n",
       "      <td>M</td>\n",
       "      <td>Emergency Medicine</td>\n",
       "      <td>265.0</td>\n",
       "      <td>67.0</td>\n",
       "      <td>265.0</td>\n",
       "      <td>125.000000</td>\n",
       "      <td>67.717925</td>\n",
       "      <td>43.902528</td>\n",
       "      <td>1982676136</td>\n",
       "    </tr>\n",
       "    <tr>\n",
       "      <th>1811</th>\n",
       "      <td>1.982676e+09</td>\n",
       "      <td>M</td>\n",
       "      <td>Emergency Medicine</td>\n",
       "      <td>24.0</td>\n",
       "      <td>24.0</td>\n",
       "      <td>24.0</td>\n",
       "      <td>165.000000</td>\n",
       "      <td>102.440000</td>\n",
       "      <td>34.667917</td>\n",
       "      <td>1982676136</td>\n",
       "    </tr>\n",
       "    <tr>\n",
       "      <th>1812</th>\n",
       "      <td>1.992768e+09</td>\n",
       "      <td>M</td>\n",
       "      <td>Family Practice</td>\n",
       "      <td>29.0</td>\n",
       "      <td>27.0</td>\n",
       "      <td>29.0</td>\n",
       "      <td>574.000000</td>\n",
       "      <td>65.900000</td>\n",
       "      <td>49.888276</td>\n",
       "      <td>1992768477</td>\n",
       "    </tr>\n",
       "    <tr>\n",
       "      <th>1813</th>\n",
       "      <td>1.992768e+09</td>\n",
       "      <td>M</td>\n",
       "      <td>Family Practice</td>\n",
       "      <td>32.0</td>\n",
       "      <td>32.0</td>\n",
       "      <td>32.0</td>\n",
       "      <td>757.000000</td>\n",
       "      <td>125.010000</td>\n",
       "      <td>92.168750</td>\n",
       "      <td>1992768477</td>\n",
       "    </tr>\n",
       "    <tr>\n",
       "      <th>1814</th>\n",
       "      <td>1.992768e+09</td>\n",
       "      <td>M</td>\n",
       "      <td>Family Practice</td>\n",
       "      <td>12.0</td>\n",
       "      <td>12.0</td>\n",
       "      <td>12.0</td>\n",
       "      <td>1190.000000</td>\n",
       "      <td>184.580000</td>\n",
       "      <td>128.634167</td>\n",
       "      <td>1992768477</td>\n",
       "    </tr>\n",
       "  </tbody>\n",
       "</table>\n",
       "<p>1815 rows × 10 columns</p>\n",
       "</div>"
      ],
      "text/plain": [
       "               npi nppes_provider_gender       provider_type  line_srvc_cnt  \\\n",
       "0     1.003128e+09                     M   Internal Medicine          617.0   \n",
       "1     1.003128e+09                     M   Internal Medicine          249.0   \n",
       "2     1.003128e+09                     M   Internal Medicine         1220.0   \n",
       "3     1.003128e+09                     M   Internal Medicine          754.0   \n",
       "4     1.003128e+09                     M   Internal Medicine          543.0   \n",
       "...            ...                   ...                 ...            ...   \n",
       "1810  1.982676e+09                     M  Emergency Medicine          265.0   \n",
       "1811  1.982676e+09                     M  Emergency Medicine           24.0   \n",
       "1812  1.992768e+09                     M     Family Practice           29.0   \n",
       "1813  1.992768e+09                     M     Family Practice           32.0   \n",
       "1814  1.992768e+09                     M     Family Practice           12.0   \n",
       "\n",
       "      bene_unique_cnt  bene_day_srvc_cnt  average_submitted_chrg_amt  \\\n",
       "0               499.0              617.0                  332.463533   \n",
       "1                17.0              249.0                   69.899598   \n",
       "2               235.0             1220.0                  120.000000   \n",
       "3               434.0              754.0                  172.590186   \n",
       "4               448.0              543.0                  188.176796   \n",
       "...               ...                ...                         ...   \n",
       "1810             67.0              265.0                  125.000000   \n",
       "1811             24.0               24.0                  165.000000   \n",
       "1812             27.0               29.0                  574.000000   \n",
       "1813             32.0               32.0                  757.000000   \n",
       "1814             12.0               12.0                 1190.000000   \n",
       "\n",
       "      average_Medicare_allowed_amt  average_Medicare_payment_amt         NPI  \n",
       "0                       219.944716                    170.918590  1003127655  \n",
       "1                        42.570080                     33.024418  1003127655  \n",
       "2                        78.414213                     61.340197  1003127655  \n",
       "3                       113.284987                     88.611313  1003127655  \n",
       "4                       117.852320                     91.907495  1003127655  \n",
       "...                            ...                           ...         ...  \n",
       "1810                     67.717925                     43.902528  1982676136  \n",
       "1811                    102.440000                     34.667917  1982676136  \n",
       "1812                     65.900000                     49.888276  1992768477  \n",
       "1813                    125.010000                     92.168750  1992768477  \n",
       "1814                    184.580000                    128.634167  1992768477  \n",
       "\n",
       "[1815 rows x 10 columns]"
      ]
     },
     "execution_count": 17,
     "metadata": {},
     "output_type": "execute_result"
    }
   ],
   "source": [
    "merged_dataset = pd.merge(selected_provider_data, selected_convicted_data, \n",
    "                          how='right', left_on='npi', right_on='NPI').dropna(axis=0)\n",
    "\n",
    "merged_dataset"
   ]
  },
  {
   "cell_type": "code",
   "execution_count": 18,
   "metadata": {},
   "outputs": [
    {
     "data": {
      "text/html": [
       "<div>\n",
       "<style scoped>\n",
       "    .dataframe tbody tr th:only-of-type {\n",
       "        vertical-align: middle;\n",
       "    }\n",
       "\n",
       "    .dataframe tbody tr th {\n",
       "        vertical-align: top;\n",
       "    }\n",
       "\n",
       "    .dataframe thead th {\n",
       "        text-align: right;\n",
       "    }\n",
       "</style>\n",
       "<table border=\"1\" class=\"dataframe\">\n",
       "  <thead>\n",
       "    <tr style=\"text-align: right;\">\n",
       "      <th></th>\n",
       "      <th>npi</th>\n",
       "      <th>line_srvc_cnt</th>\n",
       "      <th>bene_unique_cnt</th>\n",
       "      <th>bene_day_srvc_cnt</th>\n",
       "      <th>average_submitted_chrg_amt</th>\n",
       "      <th>average_Medicare_allowed_amt</th>\n",
       "      <th>average_Medicare_payment_amt</th>\n",
       "      <th>NPI</th>\n",
       "    </tr>\n",
       "  </thead>\n",
       "  <tbody>\n",
       "    <tr>\n",
       "      <th>count</th>\n",
       "      <td>1.815000e+03</td>\n",
       "      <td>1815.000000</td>\n",
       "      <td>1815.000000</td>\n",
       "      <td>1815.000000</td>\n",
       "      <td>1815.000000</td>\n",
       "      <td>1815.000000</td>\n",
       "      <td>1815.000000</td>\n",
       "      <td>1.815000e+03</td>\n",
       "    </tr>\n",
       "    <tr>\n",
       "      <th>mean</th>\n",
       "      <td>1.529590e+09</td>\n",
       "      <td>258.408815</td>\n",
       "      <td>71.072176</td>\n",
       "      <td>146.446832</td>\n",
       "      <td>254.192434</td>\n",
       "      <td>99.720832</td>\n",
       "      <td>72.825212</td>\n",
       "      <td>1.529590e+09</td>\n",
       "    </tr>\n",
       "    <tr>\n",
       "      <th>std</th>\n",
       "      <td>2.792831e+08</td>\n",
       "      <td>1215.762687</td>\n",
       "      <td>106.159045</td>\n",
       "      <td>299.869515</td>\n",
       "      <td>917.186901</td>\n",
       "      <td>299.742333</td>\n",
       "      <td>234.570899</td>\n",
       "      <td>2.792831e+08</td>\n",
       "    </tr>\n",
       "    <tr>\n",
       "      <th>min</th>\n",
       "      <td>1.003128e+09</td>\n",
       "      <td>11.000000</td>\n",
       "      <td>11.000000</td>\n",
       "      <td>11.000000</td>\n",
       "      <td>0.468966</td>\n",
       "      <td>0.019024</td>\n",
       "      <td>0.013659</td>\n",
       "      <td>1.003128e+09</td>\n",
       "    </tr>\n",
       "    <tr>\n",
       "      <th>25%</th>\n",
       "      <td>1.306868e+09</td>\n",
       "      <td>25.000000</td>\n",
       "      <td>18.000000</td>\n",
       "      <td>24.000000</td>\n",
       "      <td>50.000000</td>\n",
       "      <td>24.601667</td>\n",
       "      <td>17.619372</td>\n",
       "      <td>1.306868e+09</td>\n",
       "    </tr>\n",
       "    <tr>\n",
       "      <th>50%</th>\n",
       "      <td>1.538186e+09</td>\n",
       "      <td>56.000000</td>\n",
       "      <td>34.000000</td>\n",
       "      <td>50.000000</td>\n",
       "      <td>134.052632</td>\n",
       "      <td>70.240000</td>\n",
       "      <td>46.861935</td>\n",
       "      <td>1.538186e+09</td>\n",
       "    </tr>\n",
       "    <tr>\n",
       "      <th>75%</th>\n",
       "      <td>1.780673e+09</td>\n",
       "      <td>160.000000</td>\n",
       "      <td>75.000000</td>\n",
       "      <td>136.500000</td>\n",
       "      <td>241.631579</td>\n",
       "      <td>114.695000</td>\n",
       "      <td>82.487157</td>\n",
       "      <td>1.780673e+09</td>\n",
       "    </tr>\n",
       "    <tr>\n",
       "      <th>max</th>\n",
       "      <td>1.992768e+09</td>\n",
       "      <td>26460.000000</td>\n",
       "      <td>1107.000000</td>\n",
       "      <td>4439.000000</td>\n",
       "      <td>23150.550000</td>\n",
       "      <td>7500.060000</td>\n",
       "      <td>5879.588571</td>\n",
       "      <td>1.992768e+09</td>\n",
       "    </tr>\n",
       "  </tbody>\n",
       "</table>\n",
       "</div>"
      ],
      "text/plain": [
       "                npi  line_srvc_cnt  bene_unique_cnt  bene_day_srvc_cnt  \\\n",
       "count  1.815000e+03    1815.000000      1815.000000        1815.000000   \n",
       "mean   1.529590e+09     258.408815        71.072176         146.446832   \n",
       "std    2.792831e+08    1215.762687       106.159045         299.869515   \n",
       "min    1.003128e+09      11.000000        11.000000          11.000000   \n",
       "25%    1.306868e+09      25.000000        18.000000          24.000000   \n",
       "50%    1.538186e+09      56.000000        34.000000          50.000000   \n",
       "75%    1.780673e+09     160.000000        75.000000         136.500000   \n",
       "max    1.992768e+09   26460.000000      1107.000000        4439.000000   \n",
       "\n",
       "       average_submitted_chrg_amt  average_Medicare_allowed_amt  \\\n",
       "count                 1815.000000                   1815.000000   \n",
       "mean                   254.192434                     99.720832   \n",
       "std                    917.186901                    299.742333   \n",
       "min                      0.468966                      0.019024   \n",
       "25%                     50.000000                     24.601667   \n",
       "50%                    134.052632                     70.240000   \n",
       "75%                    241.631579                    114.695000   \n",
       "max                  23150.550000                   7500.060000   \n",
       "\n",
       "       average_Medicare_payment_amt           NPI  \n",
       "count                   1815.000000  1.815000e+03  \n",
       "mean                      72.825212  1.529590e+09  \n",
       "std                      234.570899  2.792831e+08  \n",
       "min                        0.013659  1.003128e+09  \n",
       "25%                       17.619372  1.306868e+09  \n",
       "50%                       46.861935  1.538186e+09  \n",
       "75%                       82.487157  1.780673e+09  \n",
       "max                     5879.588571  1.992768e+09  "
      ]
     },
     "execution_count": 18,
     "metadata": {},
     "output_type": "execute_result"
    }
   ],
   "source": [
    "%matplotlib inline\n",
    "\n",
    "merged_dataset.describe()"
   ]
  },
  {
   "cell_type": "code",
   "execution_count": 19,
   "metadata": {},
   "outputs": [
    {
     "data": {
      "text/plain": [
       "<matplotlib.axes._subplots.AxesSubplot at 0x118f8e9b0>"
      ]
     },
     "execution_count": 19,
     "metadata": {},
     "output_type": "execute_result"
    },
    {
     "data": {
      "image/png": "[encoded data removed]",
      "text/plain": [
       "<Figure size 432x288 with 1 Axes>"
      ]
     },
     "metadata": {
      "needs_background": "light"
     },
     "output_type": "display_data"
    }
   ],
   "source": [
    "merged_dataset.plot(kind='scatter', x='npi', y='line_srvc_cnt')"
   ]
  },
  {
   "cell_type": "code",
   "execution_count": 20,
   "metadata": {},
   "outputs": [
    {
     "data": {
      "text/plain": [
       "<matplotlib.axes._subplots.AxesSubplot at 0x118cd17f0>"
      ]
     },
     "execution_count": 20,
     "metadata": {},
     "output_type": "execute_result"
    },
    {
     "data": {
      "image/png": "[encoded data removed]",
      "text/plain": [
       "<Figure size 432x288 with 1 Axes>"
      ]
     },
     "metadata": {
      "needs_background": "light"
     },
     "output_type": "display_data"
    }
   ],
   "source": [
    "merged_dataset.plot(kind='scatter', x='bene_unique_cnt', y='bene_day_srvc_cnt')"
   ]
  },
  {
   "cell_type": "code",
   "execution_count": 21,
   "metadata": {},
   "outputs": [
    {
     "data": {
      "text/plain": [
       "npi                              190\n",
       "nppes_provider_gender              2\n",
       "provider_type                     39\n",
       "line_srvc_cnt                    471\n",
       "bene_unique_cnt                  282\n",
       "bene_day_srvc_cnt                425\n",
       "average_submitted_chrg_amt      1026\n",
       "average_Medicare_allowed_amt    1589\n",
       "average_Medicare_payment_amt    1749\n",
       "NPI                              190\n",
       "dtype: int64"
      ]
     },
     "execution_count": 21,
     "metadata": {},
     "output_type": "execute_result"
    }
   ],
   "source": [
    "merged_dataset.nunique()"
   ]
  },
  {
   "cell_type": "code",
   "execution_count": 22,
   "metadata": {},
   "outputs": [
    {
     "data": {
      "text/plain": [
       "count     1815\n",
       "unique       2\n",
       "top          M\n",
       "freq      1724\n",
       "Name: nppes_provider_gender, dtype: object"
      ]
     },
     "execution_count": 22,
     "metadata": {},
     "output_type": "execute_result"
    }
   ],
   "source": [
    "merged_dataset['nppes_provider_gender'].describe()"
   ]
  },
  {
   "cell_type": "code",
   "execution_count": 23,
   "metadata": {},
   "outputs": [
    {
     "data": {
      "text/plain": [
       "count     9416125\n",
       "unique          2\n",
       "top             M\n",
       "freq      6535107\n",
       "Name: nppes_provider_gender, dtype: object"
      ]
     },
     "execution_count": 23,
     "metadata": {},
     "output_type": "execute_result"
    }
   ],
   "source": [
    "provider_df['nppes_provider_gender'].describe()"
   ]
  },
  {
   "cell_type": "code",
   "execution_count": 24,
   "metadata": {},
   "outputs": [
    {
     "data": {
      "text/plain": [
       "0.949862258953168"
      ]
     },
     "execution_count": 24,
     "metadata": {},
     "output_type": "execute_result"
    }
   ],
   "source": [
    "1724/1815 ### %age of males in excluded dataset"
   ]
  },
  {
   "cell_type": "code",
   "execution_count": 25,
   "metadata": {},
   "outputs": [
    {
     "data": {
      "text/plain": [
       "0.6940335860027347"
      ]
     },
     "execution_count": 25,
     "metadata": {},
     "output_type": "execute_result"
    }
   ],
   "source": [
    "6535107/9416125 ### %age of males in dataset B"
   ]
  },
  {
   "cell_type": "code",
   "execution_count": 26,
   "metadata": {},
   "outputs": [
    {
     "data": {
      "text/plain": [
       "Index(['npi', 'nppes_provider_gender', 'provider_type', 'line_srvc_cnt',\n",
       "       'bene_unique_cnt', 'bene_day_srvc_cnt', 'average_submitted_chrg_amt',\n",
       "       'average_Medicare_allowed_amt', 'average_Medicare_payment_amt', 'NPI'],\n",
       "      dtype='object')"
      ]
     },
     "execution_count": 26,
     "metadata": {},
     "output_type": "execute_result"
    }
   ],
   "source": [
    "merged_dataset.columns"
   ]
  },
  {
   "cell_type": "code",
   "execution_count": 27,
   "metadata": {},
   "outputs": [
    {
     "data": {
      "text/plain": [
       "1"
      ]
     },
     "execution_count": 27,
     "metadata": {},
     "output_type": "execute_result"
    }
   ],
   "source": [
    "### Looking for differences in NPI values in two datasets\n",
    "\n",
    "comparison = merged_dataset['npi'] == merged_dataset['NPI']\n",
    "\n",
    "comparison.nunique()"
   ]
  },
  {
   "cell_type": "markdown",
   "metadata": {},
   "source": [
    "Since they are the same, we can drop one of these two columns. "
   ]
  },
  {
   "cell_type": "code",
   "execution_count": 28,
   "metadata": {},
   "outputs": [
    {
     "data": {
      "text/html": [
       "<div>\n",
       "<style scoped>\n",
       "    .dataframe tbody tr th:only-of-type {\n",
       "        vertical-align: middle;\n",
       "    }\n",
       "\n",
       "    .dataframe tbody tr th {\n",
       "        vertical-align: top;\n",
       "    }\n",
       "\n",
       "    .dataframe thead th {\n",
       "        text-align: right;\n",
       "    }\n",
       "</style>\n",
       "<table border=\"1\" class=\"dataframe\">\n",
       "  <thead>\n",
       "    <tr style=\"text-align: right;\">\n",
       "      <th></th>\n",
       "      <th>npi</th>\n",
       "      <th>nppes_provider_gender</th>\n",
       "      <th>provider_type</th>\n",
       "      <th>line_srvc_cnt</th>\n",
       "      <th>bene_unique_cnt</th>\n",
       "      <th>bene_day_srvc_cnt</th>\n",
       "      <th>average_submitted_chrg_amt</th>\n",
       "      <th>average_Medicare_allowed_amt</th>\n",
       "      <th>average_Medicare_payment_amt</th>\n",
       "    </tr>\n",
       "  </thead>\n",
       "  <tbody>\n",
       "    <tr>\n",
       "      <th>0</th>\n",
       "      <td>1.003128e+09</td>\n",
       "      <td>M</td>\n",
       "      <td>Internal Medicine</td>\n",
       "      <td>617.0</td>\n",
       "      <td>499.0</td>\n",
       "      <td>617.0</td>\n",
       "      <td>332.463533</td>\n",
       "      <td>219.944716</td>\n",
       "      <td>170.918590</td>\n",
       "    </tr>\n",
       "    <tr>\n",
       "      <th>1</th>\n",
       "      <td>1.003128e+09</td>\n",
       "      <td>M</td>\n",
       "      <td>Internal Medicine</td>\n",
       "      <td>249.0</td>\n",
       "      <td>17.0</td>\n",
       "      <td>249.0</td>\n",
       "      <td>69.899598</td>\n",
       "      <td>42.570080</td>\n",
       "      <td>33.024418</td>\n",
       "    </tr>\n",
       "    <tr>\n",
       "      <th>2</th>\n",
       "      <td>1.003128e+09</td>\n",
       "      <td>M</td>\n",
       "      <td>Internal Medicine</td>\n",
       "      <td>1220.0</td>\n",
       "      <td>235.0</td>\n",
       "      <td>1220.0</td>\n",
       "      <td>120.000000</td>\n",
       "      <td>78.414213</td>\n",
       "      <td>61.340197</td>\n",
       "    </tr>\n",
       "    <tr>\n",
       "      <th>3</th>\n",
       "      <td>1.003128e+09</td>\n",
       "      <td>M</td>\n",
       "      <td>Internal Medicine</td>\n",
       "      <td>754.0</td>\n",
       "      <td>434.0</td>\n",
       "      <td>754.0</td>\n",
       "      <td>172.590186</td>\n",
       "      <td>113.284987</td>\n",
       "      <td>88.611313</td>\n",
       "    </tr>\n",
       "    <tr>\n",
       "      <th>4</th>\n",
       "      <td>1.003128e+09</td>\n",
       "      <td>M</td>\n",
       "      <td>Internal Medicine</td>\n",
       "      <td>543.0</td>\n",
       "      <td>448.0</td>\n",
       "      <td>543.0</td>\n",
       "      <td>188.176796</td>\n",
       "      <td>117.852320</td>\n",
       "      <td>91.907495</td>\n",
       "    </tr>\n",
       "    <tr>\n",
       "      <th>5</th>\n",
       "      <td>1.003128e+09</td>\n",
       "      <td>M</td>\n",
       "      <td>Internal Medicine</td>\n",
       "      <td>414.0</td>\n",
       "      <td>316.0</td>\n",
       "      <td>414.0</td>\n",
       "      <td>273.828502</td>\n",
       "      <td>181.887440</td>\n",
       "      <td>139.755266</td>\n",
       "    </tr>\n",
       "    <tr>\n",
       "      <th>6</th>\n",
       "      <td>1.003128e+09</td>\n",
       "      <td>M</td>\n",
       "      <td>Internal Medicine</td>\n",
       "      <td>658.0</td>\n",
       "      <td>218.0</td>\n",
       "      <td>658.0</td>\n",
       "      <td>141.793313</td>\n",
       "      <td>100.259909</td>\n",
       "      <td>77.022340</td>\n",
       "    </tr>\n",
       "    <tr>\n",
       "      <th>7</th>\n",
       "      <td>1.003128e+09</td>\n",
       "      <td>M</td>\n",
       "      <td>Internal Medicine</td>\n",
       "      <td>52.0</td>\n",
       "      <td>51.0</td>\n",
       "      <td>52.0</td>\n",
       "      <td>90.000000</td>\n",
       "      <td>60.180000</td>\n",
       "      <td>47.180000</td>\n",
       "    </tr>\n",
       "    <tr>\n",
       "      <th>8</th>\n",
       "      <td>1.003811e+09</td>\n",
       "      <td>M</td>\n",
       "      <td>Pain Management</td>\n",
       "      <td>90.0</td>\n",
       "      <td>32.0</td>\n",
       "      <td>90.0</td>\n",
       "      <td>105.000000</td>\n",
       "      <td>84.290000</td>\n",
       "      <td>53.103444</td>\n",
       "    </tr>\n",
       "    <tr>\n",
       "      <th>9</th>\n",
       "      <td>1.003811e+09</td>\n",
       "      <td>M</td>\n",
       "      <td>Pain Management</td>\n",
       "      <td>126.0</td>\n",
       "      <td>46.0</td>\n",
       "      <td>126.0</td>\n",
       "      <td>130.000000</td>\n",
       "      <td>123.460000</td>\n",
       "      <td>83.113968</td>\n",
       "    </tr>\n",
       "  </tbody>\n",
       "</table>\n",
       "</div>"
      ],
      "text/plain": [
       "            npi nppes_provider_gender      provider_type  line_srvc_cnt  \\\n",
       "0  1.003128e+09                     M  Internal Medicine          617.0   \n",
       "1  1.003128e+09                     M  Internal Medicine          249.0   \n",
       "2  1.003128e+09                     M  Internal Medicine         1220.0   \n",
       "3  1.003128e+09                     M  Internal Medicine          754.0   \n",
       "4  1.003128e+09                     M  Internal Medicine          543.0   \n",
       "5  1.003128e+09                     M  Internal Medicine          414.0   \n",
       "6  1.003128e+09                     M  Internal Medicine          658.0   \n",
       "7  1.003128e+09                     M  Internal Medicine           52.0   \n",
       "8  1.003811e+09                     M    Pain Management           90.0   \n",
       "9  1.003811e+09                     M    Pain Management          126.0   \n",
       "\n",
       "   bene_unique_cnt  bene_day_srvc_cnt  average_submitted_chrg_amt  \\\n",
       "0            499.0              617.0                  332.463533   \n",
       "1             17.0              249.0                   69.899598   \n",
       "2            235.0             1220.0                  120.000000   \n",
       "3            434.0              754.0                  172.590186   \n",
       "4            448.0              543.0                  188.176796   \n",
       "5            316.0              414.0                  273.828502   \n",
       "6            218.0              658.0                  141.793313   \n",
       "7             51.0               52.0                   90.000000   \n",
       "8             32.0               90.0                  105.000000   \n",
       "9             46.0              126.0                  130.000000   \n",
       "\n",
       "   average_Medicare_allowed_amt  average_Medicare_payment_amt  \n",
       "0                    219.944716                    170.918590  \n",
       "1                     42.570080                     33.024418  \n",
       "2                     78.414213                     61.340197  \n",
       "3                    113.284987                     88.611313  \n",
       "4                    117.852320                     91.907495  \n",
       "5                    181.887440                    139.755266  \n",
       "6                    100.259909                     77.022340  \n",
       "7                     60.180000                     47.180000  \n",
       "8                     84.290000                     53.103444  \n",
       "9                    123.460000                     83.113968  "
      ]
     },
     "execution_count": 28,
     "metadata": {},
     "output_type": "execute_result"
    }
   ],
   "source": [
    "merged_dataset = merged_dataset.drop('NPI', axis=1)\n",
    "merged_dataset.head(10)"
   ]
  },
  {
   "cell_type": "code",
   "execution_count": 29,
   "metadata": {},
   "outputs": [
    {
     "data": {
      "text/plain": [
       "(1815, 9)"
      ]
     },
     "execution_count": 29,
     "metadata": {},
     "output_type": "execute_result"
    }
   ],
   "source": [
    "merged_dataset.shape"
   ]
  },
  {
   "cell_type": "code",
   "execution_count": 30,
   "metadata": {},
   "outputs": [
    {
     "data": {
      "text/plain": [
       "npi                               int64\n",
       "nppes_provider_gender            object\n",
       "provider_type                    object\n",
       "line_srvc_cnt                   float64\n",
       "bene_unique_cnt                 float64\n",
       "bene_day_srvc_cnt               float64\n",
       "average_submitted_chrg_amt      float64\n",
       "average_Medicare_allowed_amt    float64\n",
       "average_Medicare_payment_amt    float64\n",
       "dtype: object"
      ]
     },
     "execution_count": 30,
     "metadata": {},
     "output_type": "execute_result"
    }
   ],
   "source": [
    "selected_provider_data.dtypes"
   ]
  },
  {
   "cell_type": "markdown",
   "metadata": {},
   "source": [
    "Applying same transformations to labeled dataset."
   ]
  },
  {
   "cell_type": "markdown",
   "metadata": {},
   "source": [
    "merged_dataset['nppes_provider_gender'] = le.fit_transform(merged_dataset['nppes_provider_gender'])\n",
    "merged_dataset['provider_type'] = le.fit_transform(merged_dataset['provider_type'])\n",
    "\n",
    "labeled_dataset = one_hot_encoder.fit_transform(merged_dataset)"
   ]
  },
  {
   "cell_type": "markdown",
   "metadata": {},
   "source": [
    "### Converting sparse matrix back to DataFrame"
   ]
  },
  {
   "cell_type": "markdown",
   "metadata": {},
   "source": [
    "from scipy import sparse\n",
    "\n",
    "final_provider_df = pd.DataFrame.sparse.from_spmatrix(final_provider_dataset)\n",
    "\n",
    "#labeled_dataset = pd.DataFrame(labeled_dataset.todense())\n",
    "\n",
    "#print(labeled_dataset.shape)\n",
    "\n",
    "print(final_provider_dataset.shape)\n"
   ]
  },
  {
   "cell_type": "markdown",
   "metadata": {},
   "source": [
    "### Fraud and non-fraud labels\n",
    "\n",
    "One extra feature needs to be created to label the npi as fraudulent or non-fraudulent. "
   ]
  },
  {
   "cell_type": "code",
   "execution_count": null,
   "metadata": {},
   "outputs": [],
   "source": [
    "labeled_dataset.head()"
   ]
  },
  {
   "cell_type": "code",
   "execution_count": null,
   "metadata": {},
   "outputs": [],
   "source": [
    "merged_dataset.head()"
   ]
  },
  {
   "cell_type": "code",
   "execution_count": null,
   "metadata": {},
   "outputs": [],
   "source": [
    "X_train['provider_type'].nunique()"
   ]
  },
  {
   "cell_type": "code",
   "execution_count": null,
   "metadata": {},
   "outputs": [],
   "source": [
    "merged_dataset.npi = merged_dataset.npi.astype(int)"
   ]
  },
  {
   "cell_type": "code",
   "execution_count": null,
   "metadata": {},
   "outputs": [],
   "source": [
    "type(merged_dataset)"
   ]
  },
  {
   "cell_type": "code",
   "execution_count": null,
   "metadata": {},
   "outputs": [],
   "source": [
    "type(selected_provider_data)"
   ]
  },
  {
   "cell_type": "markdown",
   "metadata": {},
   "source": [
    "### Adding a feature for fraud labeling"
   ]
  },
  {
   "cell_type": "code",
   "execution_count": 34,
   "metadata": {},
   "outputs": [],
   "source": [
    "merged_dataset['label'] = 1"
   ]
  },
  {
   "cell_type": "code",
   "execution_count": 35,
   "metadata": {},
   "outputs": [],
   "source": [
    "labeled_final = pd.merge(selected_provider_data, merged_dataset[['npi', 'label']], \n",
    "                        how='left', on='npi').fillna(0)\n"
   ]
  },
  {
   "cell_type": "code",
   "execution_count": 36,
   "metadata": {},
   "outputs": [
    {
     "data": {
      "text/html": [
       "<div>\n",
       "<style scoped>\n",
       "    .dataframe tbody tr th:only-of-type {\n",
       "        vertical-align: middle;\n",
       "    }\n",
       "\n",
       "    .dataframe tbody tr th {\n",
       "        vertical-align: top;\n",
       "    }\n",
       "\n",
       "    .dataframe thead th {\n",
       "        text-align: right;\n",
       "    }\n",
       "</style>\n",
       "<table border=\"1\" class=\"dataframe\">\n",
       "  <thead>\n",
       "    <tr style=\"text-align: right;\">\n",
       "      <th></th>\n",
       "      <th>npi</th>\n",
       "      <th>nppes_provider_gender</th>\n",
       "      <th>provider_type</th>\n",
       "      <th>line_srvc_cnt</th>\n",
       "      <th>bene_unique_cnt</th>\n",
       "      <th>bene_day_srvc_cnt</th>\n",
       "      <th>average_submitted_chrg_amt</th>\n",
       "      <th>average_Medicare_allowed_amt</th>\n",
       "      <th>average_Medicare_payment_amt</th>\n",
       "      <th>label</th>\n",
       "    </tr>\n",
       "  </thead>\n",
       "  <tbody>\n",
       "    <tr>\n",
       "      <th>0</th>\n",
       "      <td>1003000126</td>\n",
       "      <td>M</td>\n",
       "      <td>Internal Medicine</td>\n",
       "      <td>100.0</td>\n",
       "      <td>96.0</td>\n",
       "      <td>100.0</td>\n",
       "      <td>325.780000</td>\n",
       "      <td>73.398800</td>\n",
       "      <td>56.827200</td>\n",
       "      <td>0.0</td>\n",
       "    </tr>\n",
       "    <tr>\n",
       "      <th>1</th>\n",
       "      <td>1003000126</td>\n",
       "      <td>M</td>\n",
       "      <td>Internal Medicine</td>\n",
       "      <td>26.0</td>\n",
       "      <td>25.0</td>\n",
       "      <td>26.0</td>\n",
       "      <td>449.000000</td>\n",
       "      <td>100.080000</td>\n",
       "      <td>78.460000</td>\n",
       "      <td>0.0</td>\n",
       "    </tr>\n",
       "    <tr>\n",
       "      <th>2</th>\n",
       "      <td>1003000126</td>\n",
       "      <td>M</td>\n",
       "      <td>Internal Medicine</td>\n",
       "      <td>52.0</td>\n",
       "      <td>51.0</td>\n",
       "      <td>52.0</td>\n",
       "      <td>614.000000</td>\n",
       "      <td>136.380000</td>\n",
       "      <td>102.807692</td>\n",
       "      <td>0.0</td>\n",
       "    </tr>\n",
       "    <tr>\n",
       "      <th>3</th>\n",
       "      <td>1003000126</td>\n",
       "      <td>M</td>\n",
       "      <td>Internal Medicine</td>\n",
       "      <td>59.0</td>\n",
       "      <td>59.0</td>\n",
       "      <td>59.0</td>\n",
       "      <td>755.932203</td>\n",
       "      <td>190.363729</td>\n",
       "      <td>141.293559</td>\n",
       "      <td>0.0</td>\n",
       "    </tr>\n",
       "    <tr>\n",
       "      <th>4</th>\n",
       "      <td>1003000126</td>\n",
       "      <td>M</td>\n",
       "      <td>Internal Medicine</td>\n",
       "      <td>16.0</td>\n",
       "      <td>16.0</td>\n",
       "      <td>16.0</td>\n",
       "      <td>462.812500</td>\n",
       "      <td>101.680000</td>\n",
       "      <td>79.710000</td>\n",
       "      <td>0.0</td>\n",
       "    </tr>\n",
       "  </tbody>\n",
       "</table>\n",
       "</div>"
      ],
      "text/plain": [
       "          npi nppes_provider_gender      provider_type  line_srvc_cnt  \\\n",
       "0  1003000126                     M  Internal Medicine          100.0   \n",
       "1  1003000126                     M  Internal Medicine           26.0   \n",
       "2  1003000126                     M  Internal Medicine           52.0   \n",
       "3  1003000126                     M  Internal Medicine           59.0   \n",
       "4  1003000126                     M  Internal Medicine           16.0   \n",
       "\n",
       "   bene_unique_cnt  bene_day_srvc_cnt  average_submitted_chrg_amt  \\\n",
       "0             96.0              100.0                  325.780000   \n",
       "1             25.0               26.0                  449.000000   \n",
       "2             51.0               52.0                  614.000000   \n",
       "3             59.0               59.0                  755.932203   \n",
       "4             16.0               16.0                  462.812500   \n",
       "\n",
       "   average_Medicare_allowed_amt  average_Medicare_payment_amt  label  \n",
       "0                     73.398800                     56.827200    0.0  \n",
       "1                    100.080000                     78.460000    0.0  \n",
       "2                    136.380000                    102.807692    0.0  \n",
       "3                    190.363729                    141.293559    0.0  \n",
       "4                    101.680000                     79.710000    0.0  "
      ]
     },
     "execution_count": 36,
     "metadata": {},
     "output_type": "execute_result"
    }
   ],
   "source": [
    "labeled_final.head()"
   ]
  },
  {
   "cell_type": "code",
   "execution_count": 37,
   "metadata": {},
   "outputs": [
    {
     "data": {
      "text/plain": [
       "(9449787, 10)"
      ]
     },
     "execution_count": 37,
     "metadata": {},
     "output_type": "execute_result"
    }
   ],
   "source": [
    "labeled_final.shape"
   ]
  },
  {
   "cell_type": "code",
   "execution_count": 38,
   "metadata": {},
   "outputs": [
    {
     "data": {
      "text/plain": [
       "npi                               int64\n",
       "nppes_provider_gender            object\n",
       "provider_type                    object\n",
       "line_srvc_cnt                   float64\n",
       "bene_unique_cnt                 float64\n",
       "bene_day_srvc_cnt               float64\n",
       "average_submitted_chrg_amt      float64\n",
       "average_Medicare_allowed_amt    float64\n",
       "average_Medicare_payment_amt    float64\n",
       "label                           float64\n",
       "dtype: object"
      ]
     },
     "execution_count": 38,
     "metadata": {},
     "output_type": "execute_result"
    }
   ],
   "source": [
    "labeled_final.dtypes\n"
   ]
  },
  {
   "cell_type": "code",
   "execution_count": 39,
   "metadata": {},
   "outputs": [
    {
     "data": {
      "text/plain": [
       "count    9.449787e+06\n",
       "mean     3.753418e-03\n",
       "std      6.115006e-02\n",
       "min      0.000000e+00\n",
       "25%      0.000000e+00\n",
       "50%      0.000000e+00\n",
       "75%      0.000000e+00\n",
       "max      1.000000e+00\n",
       "Name: label, dtype: float64"
      ]
     },
     "execution_count": 39,
     "metadata": {},
     "output_type": "execute_result"
    }
   ],
   "source": [
    "labeled_final['label'].describe()"
   ]
  },
  {
   "cell_type": "code",
   "execution_count": 40,
   "metadata": {},
   "outputs": [
    {
     "data": {
      "text/plain": [
       "Index(['npi', 'nppes_provider_gender', 'provider_type', 'line_srvc_cnt',\n",
       "       'bene_unique_cnt', 'bene_day_srvc_cnt', 'average_submitted_chrg_amt',\n",
       "       'average_Medicare_allowed_amt', 'average_Medicare_payment_amt',\n",
       "       'label'],\n",
       "      dtype='object')"
      ]
     },
     "execution_count": 40,
     "metadata": {},
     "output_type": "execute_result"
    }
   ],
   "source": [
    "labeled_final.columns"
   ]
  },
  {
   "cell_type": "markdown",
   "metadata": {},
   "source": [
    "### Splitting the data into train and test datasets. "
   ]
  },
  {
   "cell_type": "code",
   "execution_count": 41,
   "metadata": {},
   "outputs": [],
   "source": [
    "from sklearn.model_selection import train_test_split\n",
    "\n",
    "X_train, X_test, y_train, y_test = train_test_split(labeled_final[['npi', 'nppes_provider_gender', 'provider_type', \n",
    "                                   'line_srvc_cnt', 'bene_unique_cnt', 'bene_day_srvc_cnt', \n",
    "                                   'average_submitted_chrg_amt','average_Medicare_allowed_amt',\n",
    "                                   'average_Medicare_payment_amt']], labeled_final['label'],\n",
    "                                    random_state=0)\n",
    "\n"
   ]
  },
  {
   "cell_type": "code",
   "execution_count": 42,
   "metadata": {},
   "outputs": [
    {
     "name": "stdout",
     "output_type": "stream",
     "text": [
      "X_train shape: (7087340, 9)\n",
      "y_train shape: (7087340,)\n"
     ]
    }
   ],
   "source": [
    "print(\"X_train shape: {}\".format(X_train.shape))\n",
    "print(\"y_train shape: {}\".format(y_train.shape))"
   ]
  },
  {
   "cell_type": "code",
   "execution_count": 43,
   "metadata": {},
   "outputs": [
    {
     "name": "stdout",
     "output_type": "stream",
     "text": [
      "X_test shape: (2362447, 9)\n",
      "y_test shape: (2362447,)\n"
     ]
    }
   ],
   "source": [
    "print(\"X_test shape: {}\".format(X_test.shape))\n",
    "print(\"y_test shape: {}\".format(y_test.shape))"
   ]
  },
  {
   "cell_type": "markdown",
   "metadata": {},
   "source": [
    "### Removing npi feature as it is not required in training the model. "
   ]
  },
  {
   "cell_type": "code",
   "execution_count": 44,
   "metadata": {},
   "outputs": [],
   "source": [
    "X_train = X_train.iloc[:, 1:]"
   ]
  },
  {
   "cell_type": "code",
   "execution_count": 45,
   "metadata": {},
   "outputs": [
    {
     "data": {
      "text/html": [
       "<div>\n",
       "<style scoped>\n",
       "    .dataframe tbody tr th:only-of-type {\n",
       "        vertical-align: middle;\n",
       "    }\n",
       "\n",
       "    .dataframe tbody tr th {\n",
       "        vertical-align: top;\n",
       "    }\n",
       "\n",
       "    .dataframe thead th {\n",
       "        text-align: right;\n",
       "    }\n",
       "</style>\n",
       "<table border=\"1\" class=\"dataframe\">\n",
       "  <thead>\n",
       "    <tr style=\"text-align: right;\">\n",
       "      <th></th>\n",
       "      <th>nppes_provider_gender</th>\n",
       "      <th>provider_type</th>\n",
       "      <th>line_srvc_cnt</th>\n",
       "      <th>bene_unique_cnt</th>\n",
       "      <th>bene_day_srvc_cnt</th>\n",
       "      <th>average_submitted_chrg_amt</th>\n",
       "      <th>average_Medicare_allowed_amt</th>\n",
       "      <th>average_Medicare_payment_amt</th>\n",
       "    </tr>\n",
       "  </thead>\n",
       "  <tbody>\n",
       "    <tr>\n",
       "      <th>1169916</th>\n",
       "      <td>F</td>\n",
       "      <td>Dermatology</td>\n",
       "      <td>26.0</td>\n",
       "      <td>26.0</td>\n",
       "      <td>26.0</td>\n",
       "      <td>122.0000</td>\n",
       "      <td>79.350000</td>\n",
       "      <td>41.471923</td>\n",
       "    </tr>\n",
       "    <tr>\n",
       "      <th>2925048</th>\n",
       "      <td>F</td>\n",
       "      <td>Radiation Oncology</td>\n",
       "      <td>176.0</td>\n",
       "      <td>49.0</td>\n",
       "      <td>176.0</td>\n",
       "      <td>505.0000</td>\n",
       "      <td>187.230000</td>\n",
       "      <td>146.780000</td>\n",
       "    </tr>\n",
       "    <tr>\n",
       "      <th>2006807</th>\n",
       "      <td>M</td>\n",
       "      <td>Neurology</td>\n",
       "      <td>320.0</td>\n",
       "      <td>170.0</td>\n",
       "      <td>320.0</td>\n",
       "      <td>128.0125</td>\n",
       "      <td>79.861656</td>\n",
       "      <td>62.125813</td>\n",
       "    </tr>\n",
       "    <tr>\n",
       "      <th>8486466</th>\n",
       "      <td>M</td>\n",
       "      <td>Family Practice</td>\n",
       "      <td>53.0</td>\n",
       "      <td>51.0</td>\n",
       "      <td>53.0</td>\n",
       "      <td>55.0000</td>\n",
       "      <td>18.680000</td>\n",
       "      <td>12.982642</td>\n",
       "    </tr>\n",
       "    <tr>\n",
       "      <th>1491221</th>\n",
       "      <td>M</td>\n",
       "      <td>Cardiology</td>\n",
       "      <td>20.0</td>\n",
       "      <td>20.0</td>\n",
       "      <td>20.0</td>\n",
       "      <td>30.0000</td>\n",
       "      <td>14.720000</td>\n",
       "      <td>11.540000</td>\n",
       "    </tr>\n",
       "  </tbody>\n",
       "</table>\n",
       "</div>"
      ],
      "text/plain": [
       "        nppes_provider_gender       provider_type  line_srvc_cnt  \\\n",
       "1169916                     F         Dermatology           26.0   \n",
       "2925048                     F  Radiation Oncology          176.0   \n",
       "2006807                     M           Neurology          320.0   \n",
       "8486466                     M     Family Practice           53.0   \n",
       "1491221                     M          Cardiology           20.0   \n",
       "\n",
       "         bene_unique_cnt  bene_day_srvc_cnt  average_submitted_chrg_amt  \\\n",
       "1169916             26.0               26.0                    122.0000   \n",
       "2925048             49.0              176.0                    505.0000   \n",
       "2006807            170.0              320.0                    128.0125   \n",
       "8486466             51.0               53.0                     55.0000   \n",
       "1491221             20.0               20.0                     30.0000   \n",
       "\n",
       "         average_Medicare_allowed_amt  average_Medicare_payment_amt  \n",
       "1169916                     79.350000                     41.471923  \n",
       "2925048                    187.230000                    146.780000  \n",
       "2006807                     79.861656                     62.125813  \n",
       "8486466                     18.680000                     12.982642  \n",
       "1491221                     14.720000                     11.540000  "
      ]
     },
     "execution_count": 45,
     "metadata": {},
     "output_type": "execute_result"
    }
   ],
   "source": [
    "X_train.head()"
   ]
  },
  {
   "cell_type": "markdown",
   "metadata": {},
   "source": [
    "### Label encoding categorical str features followed by one hot encoding. This results in a sparse matrix scipy object. LabelBinarizer can be used to combine the transformations by two encoders."
   ]
  },
  {
   "cell_type": "code",
   "execution_count": 46,
   "metadata": {},
   "outputs": [],
   "source": [
    "from sklearn.preprocessing import LabelEncoder\n",
    "from sklearn.preprocessing import OneHotEncoder\n",
    "\n",
    "le = LabelEncoder()\n",
    "\n",
    "X_train['nppes_provider_gender'] = le.fit_transform(X_train['nppes_provider_gender'])\n",
    "X_train['provider_type'] = le.fit_transform(X_train['provider_type'])\n",
    "\n",
    "\n",
    "one_hot_encoder = OneHotEncoder(categorical_features=[0, 1])\n",
    "X_train = one_hot_encoder.fit_transform(X_train)\n"
   ]
  },
  {
   "cell_type": "code",
   "execution_count": 47,
   "metadata": {},
   "outputs": [
    {
     "data": {
      "text/plain": [
       "scipy.sparse.coo.coo_matrix"
      ]
     },
     "execution_count": 47,
     "metadata": {},
     "output_type": "execute_result"
    }
   ],
   "source": [
    "type(X_train)"
   ]
  },
  {
   "cell_type": "markdown",
   "metadata": {},
   "source": [
    "### Converting sparse matrix back to DataFrame"
   ]
  },
  {
   "cell_type": "code",
   "execution_count": 48,
   "metadata": {},
   "outputs": [
    {
     "name": "stdout",
     "output_type": "stream",
     "text": [
      "(7087340, 96)\n"
     ]
    }
   ],
   "source": [
    "X_train = pd.DataFrame.sparse.from_spmatrix(X_train)\n",
    "\n",
    "print(X_train.shape)"
   ]
  },
  {
   "cell_type": "code",
   "execution_count": 49,
   "metadata": {},
   "outputs": [
    {
     "data": {
      "text/html": [
       "<div>\n",
       "<style scoped>\n",
       "    .dataframe tbody tr th:only-of-type {\n",
       "        vertical-align: middle;\n",
       "    }\n",
       "\n",
       "    .dataframe tbody tr th {\n",
       "        vertical-align: top;\n",
       "    }\n",
       "\n",
       "    .dataframe thead th {\n",
       "        text-align: right;\n",
       "    }\n",
       "</style>\n",
       "<table border=\"1\" class=\"dataframe\">\n",
       "  <thead>\n",
       "    <tr style=\"text-align: right;\">\n",
       "      <th></th>\n",
       "      <th>0</th>\n",
       "      <th>1</th>\n",
       "      <th>2</th>\n",
       "      <th>3</th>\n",
       "      <th>4</th>\n",
       "      <th>5</th>\n",
       "      <th>6</th>\n",
       "      <th>7</th>\n",
       "      <th>8</th>\n",
       "      <th>9</th>\n",
       "      <th>...</th>\n",
       "      <th>86</th>\n",
       "      <th>87</th>\n",
       "      <th>88</th>\n",
       "      <th>89</th>\n",
       "      <th>90</th>\n",
       "      <th>91</th>\n",
       "      <th>92</th>\n",
       "      <th>93</th>\n",
       "      <th>94</th>\n",
       "      <th>95</th>\n",
       "    </tr>\n",
       "  </thead>\n",
       "  <tbody>\n",
       "    <tr>\n",
       "      <th>0</th>\n",
       "      <td>1.0</td>\n",
       "      <td>0.0</td>\n",
       "      <td>0.0</td>\n",
       "      <td>0.0</td>\n",
       "      <td>0.0</td>\n",
       "      <td>0.0</td>\n",
       "      <td>0.0</td>\n",
       "      <td>0.0</td>\n",
       "      <td>0.0</td>\n",
       "      <td>0.0</td>\n",
       "      <td>...</td>\n",
       "      <td>0.0</td>\n",
       "      <td>0.0</td>\n",
       "      <td>0.0</td>\n",
       "      <td>0.0</td>\n",
       "      <td>26.0</td>\n",
       "      <td>26.0</td>\n",
       "      <td>26.0</td>\n",
       "      <td>122.0000</td>\n",
       "      <td>79.350000</td>\n",
       "      <td>41.471923</td>\n",
       "    </tr>\n",
       "    <tr>\n",
       "      <th>1</th>\n",
       "      <td>1.0</td>\n",
       "      <td>0.0</td>\n",
       "      <td>0.0</td>\n",
       "      <td>0.0</td>\n",
       "      <td>0.0</td>\n",
       "      <td>0.0</td>\n",
       "      <td>0.0</td>\n",
       "      <td>0.0</td>\n",
       "      <td>0.0</td>\n",
       "      <td>0.0</td>\n",
       "      <td>...</td>\n",
       "      <td>0.0</td>\n",
       "      <td>0.0</td>\n",
       "      <td>0.0</td>\n",
       "      <td>0.0</td>\n",
       "      <td>176.0</td>\n",
       "      <td>49.0</td>\n",
       "      <td>176.0</td>\n",
       "      <td>505.0000</td>\n",
       "      <td>187.230000</td>\n",
       "      <td>146.780000</td>\n",
       "    </tr>\n",
       "    <tr>\n",
       "      <th>2</th>\n",
       "      <td>0.0</td>\n",
       "      <td>1.0</td>\n",
       "      <td>0.0</td>\n",
       "      <td>0.0</td>\n",
       "      <td>0.0</td>\n",
       "      <td>0.0</td>\n",
       "      <td>0.0</td>\n",
       "      <td>0.0</td>\n",
       "      <td>0.0</td>\n",
       "      <td>0.0</td>\n",
       "      <td>...</td>\n",
       "      <td>0.0</td>\n",
       "      <td>0.0</td>\n",
       "      <td>0.0</td>\n",
       "      <td>0.0</td>\n",
       "      <td>320.0</td>\n",
       "      <td>170.0</td>\n",
       "      <td>320.0</td>\n",
       "      <td>128.0125</td>\n",
       "      <td>79.861656</td>\n",
       "      <td>62.125813</td>\n",
       "    </tr>\n",
       "    <tr>\n",
       "      <th>3</th>\n",
       "      <td>0.0</td>\n",
       "      <td>1.0</td>\n",
       "      <td>0.0</td>\n",
       "      <td>0.0</td>\n",
       "      <td>0.0</td>\n",
       "      <td>0.0</td>\n",
       "      <td>0.0</td>\n",
       "      <td>0.0</td>\n",
       "      <td>0.0</td>\n",
       "      <td>0.0</td>\n",
       "      <td>...</td>\n",
       "      <td>0.0</td>\n",
       "      <td>0.0</td>\n",
       "      <td>0.0</td>\n",
       "      <td>0.0</td>\n",
       "      <td>53.0</td>\n",
       "      <td>51.0</td>\n",
       "      <td>53.0</td>\n",
       "      <td>55.0000</td>\n",
       "      <td>18.680000</td>\n",
       "      <td>12.982642</td>\n",
       "    </tr>\n",
       "    <tr>\n",
       "      <th>4</th>\n",
       "      <td>0.0</td>\n",
       "      <td>1.0</td>\n",
       "      <td>0.0</td>\n",
       "      <td>0.0</td>\n",
       "      <td>0.0</td>\n",
       "      <td>0.0</td>\n",
       "      <td>0.0</td>\n",
       "      <td>0.0</td>\n",
       "      <td>0.0</td>\n",
       "      <td>0.0</td>\n",
       "      <td>...</td>\n",
       "      <td>0.0</td>\n",
       "      <td>0.0</td>\n",
       "      <td>0.0</td>\n",
       "      <td>0.0</td>\n",
       "      <td>20.0</td>\n",
       "      <td>20.0</td>\n",
       "      <td>20.0</td>\n",
       "      <td>30.0000</td>\n",
       "      <td>14.720000</td>\n",
       "      <td>11.540000</td>\n",
       "    </tr>\n",
       "  </tbody>\n",
       "</table>\n",
       "<p>5 rows × 96 columns</p>\n",
       "</div>"
      ],
      "text/plain": [
       "    0    1    2    3    4    5    6    7    8    9   ...   86   87   88   89  \\\n",
       "0  1.0  0.0  0.0  0.0  0.0  0.0  0.0  0.0  0.0  0.0  ...  0.0  0.0  0.0  0.0   \n",
       "1  1.0  0.0  0.0  0.0  0.0  0.0  0.0  0.0  0.0  0.0  ...  0.0  0.0  0.0  0.0   \n",
       "2  0.0  1.0  0.0  0.0  0.0  0.0  0.0  0.0  0.0  0.0  ...  0.0  0.0  0.0  0.0   \n",
       "3  0.0  1.0  0.0  0.0  0.0  0.0  0.0  0.0  0.0  0.0  ...  0.0  0.0  0.0  0.0   \n",
       "4  0.0  1.0  0.0  0.0  0.0  0.0  0.0  0.0  0.0  0.0  ...  0.0  0.0  0.0  0.0   \n",
       "\n",
       "      90     91     92        93          94          95  \n",
       "0   26.0   26.0   26.0  122.0000   79.350000   41.471923  \n",
       "1  176.0   49.0  176.0  505.0000  187.230000  146.780000  \n",
       "2  320.0  170.0  320.0  128.0125   79.861656   62.125813  \n",
       "3   53.0   51.0   53.0   55.0000   18.680000   12.982642  \n",
       "4   20.0   20.0   20.0   30.0000   14.720000   11.540000  \n",
       "\n",
       "[5 rows x 96 columns]"
      ]
     },
     "execution_count": 49,
     "metadata": {},
     "output_type": "execute_result"
    }
   ],
   "source": [
    "X_train.head()"
   ]
  },
  {
   "cell_type": "markdown",
   "metadata": {},
   "source": [
    "### Finally, the dataset is ready for the model. Hurray..."
   ]
  },
  {
   "cell_type": "code",
   "execution_count": 60,
   "metadata": {},
   "outputs": [],
   "source": [
    "from sklearn.linear_model import LogisticRegression\n",
    "\n",
    "log_reg = LogisticRegression()\n",
    "\n",
    "lr_fitting = log_reg.fit(X_train, y_train)"
   ]
  },
  {
   "cell_type": "code",
   "execution_count": 58,
   "metadata": {},
   "outputs": [
    {
     "data": {
      "text/plain": [
       "array([0., 0., 0., ..., 0., 0., 0.])"
      ]
     },
     "execution_count": 58,
     "metadata": {},
     "output_type": "execute_result"
    }
   ],
   "source": [
    "log_reg.predict(X_train)"
   ]
  },
  {
   "cell_type": "code",
   "execution_count": 56,
   "metadata": {},
   "outputs": [
    {
     "data": {
      "text/plain": [
       "(7087340, 96)"
      ]
     },
     "execution_count": 56,
     "metadata": {},
     "output_type": "execute_result"
    }
   ],
   "source": [
    "X_train.shape"
   ]
  },
  {
   "cell_type": "code",
   "execution_count": 61,
   "metadata": {},
   "outputs": [
    {
     "data": {
      "text/plain": [
       "0.9962304616400511"
      ]
     },
     "execution_count": 61,
     "metadata": {},
     "output_type": "execute_result"
    }
   ],
   "source": [
    "lr_fitting.score(X_train, y_train)"
   ]
  },
  {
   "cell_type": "code",
   "execution_count": null,
   "metadata": {},
   "outputs": [],
   "source": [
    "from sklearn.linear_model import LogisticRegressionCV\n",
    "\n",
    "lr_cv = LogisticRegressionCV(cv=5, random_state=0)\n",
    "lr_cv_fitting = lr_cv.fit(X_train, y_train)"
   ]
  },
  {
   "cell_type": "code",
   "execution_count": null,
   "metadata": {},
   "outputs": [],
   "source": []
  }
 ],
 "metadata": {
  "kernelspec": {
   "display_name": "Python 3",
   "language": "python",
   "name": "python3"
  },
  "language_info": {
   "codemirror_mode": {
    "name": "ipython",
    "version": 3
   },
   "file_extension": ".py",
   "mimetype": "text/x-python",
   "name": "python",
   "nbconvert_exporter": "python",
   "pygments_lexer": "ipython3",
   "version": "3.7.3"
  }
 },
 "nbformat": 4,
 "nbformat_minor": 2
}
